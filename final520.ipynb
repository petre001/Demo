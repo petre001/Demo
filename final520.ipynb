{
  "cells": [
    {
      "cell_type": "markdown",
      "metadata": {
        "id": "MgNHtESYoqYb"
      },
      "source": [
        "Before you turn this problem in, make sure everything runs as expected. First, **restart the kernel** (in the menubar, select Kernel$\\rightarrow$Restart) and then **run all cells** (in the menubar, select Cell$\\rightarrow$Run All).\n",
        "\n",
        "Make sure you fill in any place that says `YOUR CODE HERE` or \"YOUR ANSWER HERE\", as well as your name and collaborators below:"
      ]
    },
    {
      "cell_type": "code",
      "execution_count": null,
      "metadata": {
        "id": "qn2g1IBzoqYe"
      },
      "outputs": [],
      "source": [
        "NAME = \"Jeffrey Petrella\"\n",
        "COLLABORATORS = \"None\""
      ]
    },
    {
      "cell_type": "markdown",
      "metadata": {
        "id": "U5aL1pjzoqYf"
      },
      "source": [
        "---"
      ]
    },
    {
      "cell_type": "markdown",
      "metadata": {
        "deletable": false,
        "editable": false,
        "nbgrader": {
          "cell_type": "markdown",
          "checksum": "08182317210b098895e92f945e7e8fad",
          "grade": false,
          "grade_id": "cell-b00b9108e6a7dc96",
          "locked": true,
          "schema_version": 3,
          "solution": false,
          "task": false
        },
        "id": "p8Dk76cHoqYg"
      },
      "source": [
        "<a href='https://ai.meng.duke.edu'> = <img align=\"left\" style=\"padding-top:10px;\" src=https://storage.googleapis.com/aipi_datasets/Duke-AIPI-Logo.png>"
      ]
    },
    {
      "cell_type": "markdown",
      "metadata": {
        "deletable": false,
        "editable": false,
        "nbgrader": {
          "cell_type": "markdown",
          "checksum": "7083b2c3df7d6e52685acecb57b99729",
          "grade": false,
          "grade_id": "cell-78d7928edb59ae09",
          "locked": true,
          "schema_version": 3,
          "solution": false,
          "task": false
        },
        "id": "47FxcMbzoqYg"
      },
      "source": [
        "# AIPI 520 Final Exam"
      ]
    },
    {
      "cell_type": "code",
      "execution_count": 1,
      "metadata": {
        "deletable": false,
        "editable": false,
        "nbgrader": {
          "cell_type": "code",
          "checksum": "3593d0bfe5839acae34f8ef30961c5b4",
          "grade": false,
          "grade_id": "cell-70d90a94e42e01fe",
          "locked": true,
          "schema_version": 3,
          "solution": false,
          "task": false
        },
        "id": "7Gi4EZ_UoqYh"
      },
      "outputs": [],
      "source": [
        "# Run this before any other code cell\n",
        "# This downloads the csv data files into the same directory where you have saved this notebook\n",
        "\n",
        "import urllib.request\n",
        "from pathlib import Path\n",
        "import os\n",
        "path = Path()\n",
        "\n",
        "# Dictionary of file names and download links\n",
        "files = {'communities.csv':'https://storage.googleapis.com/aipi_datasets/communities.csv'}\n",
        "\n",
        "# Download each file\n",
        "for key,value in files.items():\n",
        "    filename = path/key\n",
        "    url = value\n",
        "    # If the file does not already exist in the directory, download it\n",
        "    if not os.path.exists(filename):\n",
        "        urllib.request.urlretrieve(url,filename)"
      ]
    },
    {
      "cell_type": "code",
      "execution_count": 2,
      "metadata": {
        "deletable": false,
        "editable": false,
        "nbgrader": {
          "cell_type": "code",
          "checksum": "fe6e771564baac7b99a7bf79261a978d",
          "grade": false,
          "grade_id": "cell-1e57f5f4cf6ad094",
          "locked": true,
          "schema_version": 3,
          "solution": false,
          "task": false
        },
        "id": "6q1M6r0VoqYh"
      },
      "outputs": [],
      "source": [
        "import numpy as np\n",
        "import pandas as pd\n",
        "\n",
        "import torch\n",
        "from torchvision import datasets, transforms\n",
        "from torch.utils.data import DataLoader, TensorDataset\n",
        "import torch.nn as nn\n",
        "import torch.nn.functional as F\n",
        "import torch.optim as optim\n",
        "\n",
        "from sklearn.model_selection import train_test_split,cross_val_score\n",
        "from sklearn.linear_model import LinearRegression, Lasso\n",
        "from sklearn.tree import DecisionTreeRegressor, plot_tree\n",
        "from sklearn.ensemble import RandomForestRegressor,GradientBoostingRegressor\n",
        "from sklearn.metrics import confusion_matrix\n",
        "from sklearn.model_selection import KFold\n",
        "\n",
        "import matplotlib.pyplot as plt\n",
        "import seaborn as sns"
      ]
    },
    {
      "cell_type": "markdown",
      "metadata": {
        "deletable": false,
        "editable": false,
        "nbgrader": {
          "cell_type": "markdown",
          "checksum": "708e1e589feba69393620b270fc85533",
          "grade": false,
          "grade_id": "cell-ee3030791fb5294d",
          "locked": true,
          "schema_version": 3,
          "solution": false,
          "task": false
        },
        "id": "0vRxuSGhoqYi"
      },
      "source": [
        "## Question 5: Predicting Violent Crimes [25 pts]\n",
        "For this question we are going to examine factors which correlate to higher per-capita violent crime rates in communities across the U.S.  We have a large number of possible features to use (122) which include demographic data as well as data about police presence in the communities.  Refer to [this site](https://archive.ics.uci.edu/ml/datasets/communities+and+crime) for the explanation of each of the features included.\n",
        "\n",
        "All numerical features (excluding the state, county and community codes) have been normalized to the range [0,1].  Additionally, outliers were removed by setting all values 3 standard deviations or more above the mean to 1 and all values 3 standard deviations or more below the mean to 0.\n",
        "\n",
        "Note: the target variable we are predicting is the rate of **reported crime** (which is not necessarily equal to the rate of actual crime."
      ]
    },
    {
      "cell_type": "code",
      "execution_count": 3,
      "metadata": {
        "deletable": false,
        "editable": false,
        "nbgrader": {
          "cell_type": "code",
          "checksum": "1a5deac3c2e36cccce3129f8a1f0b022",
          "grade": false,
          "grade_id": "cell-5704486cd18ae68f",
          "locked": true,
          "schema_version": 3,
          "solution": false,
          "task": false
        },
        "colab": {
          "base_uri": "https://localhost:8080/",
          "height": 354
        },
        "id": "vXuD-iqBoqYj",
        "outputId": "36202434-52b8-4395-8faa-cf98a25cccd9"
      },
      "outputs": [
        {
          "output_type": "stream",
          "name": "stdout",
          "text": [
            "(1994, 123)\n"
          ]
        },
        {
          "output_type": "stream",
          "name": "stderr",
          "text": [
            "/usr/local/lib/python3.7/dist-packages/ipykernel_launcher.py:3: FutureWarning: Dropping of nuisance columns in DataFrame reductions (with 'numeric_only=None') is deprecated; in a future version this will raise TypeError.  Select only valid columns before calling the reduction.\n",
            "  This is separate from the ipykernel package so we can avoid doing imports until\n"
          ]
        },
        {
          "output_type": "execute_result",
          "data": {
            "text/plain": [
              "   population  householdsize  racepctblack  racePctWhite  racePctAsian  \\\n",
              "0        0.19           0.33          0.02          0.90          0.12   \n",
              "1        0.00           0.16          0.12          0.74          0.45   \n",
              "2        0.00           0.42          0.49          0.56          0.17   \n",
              "3        0.04           0.77          1.00          0.08          0.12   \n",
              "4        0.01           0.55          0.02          0.95          0.09   \n",
              "\n",
              "   racePctHisp  agePct12t21  agePct12t29  agePct16t24  agePct65up  ...  \\\n",
              "0         0.17         0.34         0.47         0.29        0.32  ...   \n",
              "1         0.07         0.26         0.59         0.35        0.27  ...   \n",
              "2         0.04         0.39         0.47         0.28        0.32  ...   \n",
              "3         0.10         0.51         0.50         0.34        0.21  ...   \n",
              "4         0.05         0.38         0.38         0.23        0.36  ...   \n",
              "\n",
              "   LandArea  PopDens  PctUsePubTrans  PolicCars  PolicOperBudg  \\\n",
              "0      0.12     0.26            0.20   0.060000       0.040000   \n",
              "1      0.02     0.12            0.45   0.163103       0.076708   \n",
              "2      0.01     0.21            0.02   0.163103       0.076708   \n",
              "3      0.02     0.39            0.28   0.163103       0.076708   \n",
              "4      0.04     0.09            0.02   0.163103       0.076708   \n",
              "\n",
              "   LemasPctPolicOnPatr  LemasGangUnitDeploy  LemasPctOfficDrugUn  \\\n",
              "0             0.900000             0.500000                 0.32   \n",
              "1             0.698589             0.440439                 0.00   \n",
              "2             0.698589             0.440439                 0.00   \n",
              "3             0.698589             0.440439                 0.00   \n",
              "4             0.698589             0.440439                 0.00   \n",
              "\n",
              "   PolicBudgPerPop  ViolentCrimesPerPop  \n",
              "0         0.140000                 0.20  \n",
              "1         0.195078                 0.67  \n",
              "2         0.195078                 0.43  \n",
              "3         0.195078                 0.12  \n",
              "4         0.195078                 0.03  \n",
              "\n",
              "[5 rows x 123 columns]"
            ],
            "text/html": [
              "\n",
              "  <div id=\"df-9daee0db-6640-4234-bcd9-217e6e482645\">\n",
              "    <div class=\"colab-df-container\">\n",
              "      <div>\n",
              "<style scoped>\n",
              "    .dataframe tbody tr th:only-of-type {\n",
              "        vertical-align: middle;\n",
              "    }\n",
              "\n",
              "    .dataframe tbody tr th {\n",
              "        vertical-align: top;\n",
              "    }\n",
              "\n",
              "    .dataframe thead th {\n",
              "        text-align: right;\n",
              "    }\n",
              "</style>\n",
              "<table border=\"1\" class=\"dataframe\">\n",
              "  <thead>\n",
              "    <tr style=\"text-align: right;\">\n",
              "      <th></th>\n",
              "      <th>population</th>\n",
              "      <th>householdsize</th>\n",
              "      <th>racepctblack</th>\n",
              "      <th>racePctWhite</th>\n",
              "      <th>racePctAsian</th>\n",
              "      <th>racePctHisp</th>\n",
              "      <th>agePct12t21</th>\n",
              "      <th>agePct12t29</th>\n",
              "      <th>agePct16t24</th>\n",
              "      <th>agePct65up</th>\n",
              "      <th>...</th>\n",
              "      <th>LandArea</th>\n",
              "      <th>PopDens</th>\n",
              "      <th>PctUsePubTrans</th>\n",
              "      <th>PolicCars</th>\n",
              "      <th>PolicOperBudg</th>\n",
              "      <th>LemasPctPolicOnPatr</th>\n",
              "      <th>LemasGangUnitDeploy</th>\n",
              "      <th>LemasPctOfficDrugUn</th>\n",
              "      <th>PolicBudgPerPop</th>\n",
              "      <th>ViolentCrimesPerPop</th>\n",
              "    </tr>\n",
              "  </thead>\n",
              "  <tbody>\n",
              "    <tr>\n",
              "      <th>0</th>\n",
              "      <td>0.19</td>\n",
              "      <td>0.33</td>\n",
              "      <td>0.02</td>\n",
              "      <td>0.90</td>\n",
              "      <td>0.12</td>\n",
              "      <td>0.17</td>\n",
              "      <td>0.34</td>\n",
              "      <td>0.47</td>\n",
              "      <td>0.29</td>\n",
              "      <td>0.32</td>\n",
              "      <td>...</td>\n",
              "      <td>0.12</td>\n",
              "      <td>0.26</td>\n",
              "      <td>0.20</td>\n",
              "      <td>0.060000</td>\n",
              "      <td>0.040000</td>\n",
              "      <td>0.900000</td>\n",
              "      <td>0.500000</td>\n",
              "      <td>0.32</td>\n",
              "      <td>0.140000</td>\n",
              "      <td>0.20</td>\n",
              "    </tr>\n",
              "    <tr>\n",
              "      <th>1</th>\n",
              "      <td>0.00</td>\n",
              "      <td>0.16</td>\n",
              "      <td>0.12</td>\n",
              "      <td>0.74</td>\n",
              "      <td>0.45</td>\n",
              "      <td>0.07</td>\n",
              "      <td>0.26</td>\n",
              "      <td>0.59</td>\n",
              "      <td>0.35</td>\n",
              "      <td>0.27</td>\n",
              "      <td>...</td>\n",
              "      <td>0.02</td>\n",
              "      <td>0.12</td>\n",
              "      <td>0.45</td>\n",
              "      <td>0.163103</td>\n",
              "      <td>0.076708</td>\n",
              "      <td>0.698589</td>\n",
              "      <td>0.440439</td>\n",
              "      <td>0.00</td>\n",
              "      <td>0.195078</td>\n",
              "      <td>0.67</td>\n",
              "    </tr>\n",
              "    <tr>\n",
              "      <th>2</th>\n",
              "      <td>0.00</td>\n",
              "      <td>0.42</td>\n",
              "      <td>0.49</td>\n",
              "      <td>0.56</td>\n",
              "      <td>0.17</td>\n",
              "      <td>0.04</td>\n",
              "      <td>0.39</td>\n",
              "      <td>0.47</td>\n",
              "      <td>0.28</td>\n",
              "      <td>0.32</td>\n",
              "      <td>...</td>\n",
              "      <td>0.01</td>\n",
              "      <td>0.21</td>\n",
              "      <td>0.02</td>\n",
              "      <td>0.163103</td>\n",
              "      <td>0.076708</td>\n",
              "      <td>0.698589</td>\n",
              "      <td>0.440439</td>\n",
              "      <td>0.00</td>\n",
              "      <td>0.195078</td>\n",
              "      <td>0.43</td>\n",
              "    </tr>\n",
              "    <tr>\n",
              "      <th>3</th>\n",
              "      <td>0.04</td>\n",
              "      <td>0.77</td>\n",
              "      <td>1.00</td>\n",
              "      <td>0.08</td>\n",
              "      <td>0.12</td>\n",
              "      <td>0.10</td>\n",
              "      <td>0.51</td>\n",
              "      <td>0.50</td>\n",
              "      <td>0.34</td>\n",
              "      <td>0.21</td>\n",
              "      <td>...</td>\n",
              "      <td>0.02</td>\n",
              "      <td>0.39</td>\n",
              "      <td>0.28</td>\n",
              "      <td>0.163103</td>\n",
              "      <td>0.076708</td>\n",
              "      <td>0.698589</td>\n",
              "      <td>0.440439</td>\n",
              "      <td>0.00</td>\n",
              "      <td>0.195078</td>\n",
              "      <td>0.12</td>\n",
              "    </tr>\n",
              "    <tr>\n",
              "      <th>4</th>\n",
              "      <td>0.01</td>\n",
              "      <td>0.55</td>\n",
              "      <td>0.02</td>\n",
              "      <td>0.95</td>\n",
              "      <td>0.09</td>\n",
              "      <td>0.05</td>\n",
              "      <td>0.38</td>\n",
              "      <td>0.38</td>\n",
              "      <td>0.23</td>\n",
              "      <td>0.36</td>\n",
              "      <td>...</td>\n",
              "      <td>0.04</td>\n",
              "      <td>0.09</td>\n",
              "      <td>0.02</td>\n",
              "      <td>0.163103</td>\n",
              "      <td>0.076708</td>\n",
              "      <td>0.698589</td>\n",
              "      <td>0.440439</td>\n",
              "      <td>0.00</td>\n",
              "      <td>0.195078</td>\n",
              "      <td>0.03</td>\n",
              "    </tr>\n",
              "  </tbody>\n",
              "</table>\n",
              "<p>5 rows × 123 columns</p>\n",
              "</div>\n",
              "      <button class=\"colab-df-convert\" onclick=\"convertToInteractive('df-9daee0db-6640-4234-bcd9-217e6e482645')\"\n",
              "              title=\"Convert this dataframe to an interactive table.\"\n",
              "              style=\"display:none;\">\n",
              "        \n",
              "  <svg xmlns=\"http://www.w3.org/2000/svg\" height=\"24px\"viewBox=\"0 0 24 24\"\n",
              "       width=\"24px\">\n",
              "    <path d=\"M0 0h24v24H0V0z\" fill=\"none\"/>\n",
              "    <path d=\"M18.56 5.44l.94 2.06.94-2.06 2.06-.94-2.06-.94-.94-2.06-.94 2.06-2.06.94zm-11 1L8.5 8.5l.94-2.06 2.06-.94-2.06-.94L8.5 2.5l-.94 2.06-2.06.94zm10 10l.94 2.06.94-2.06 2.06-.94-2.06-.94-.94-2.06-.94 2.06-2.06.94z\"/><path d=\"M17.41 7.96l-1.37-1.37c-.4-.4-.92-.59-1.43-.59-.52 0-1.04.2-1.43.59L10.3 9.45l-7.72 7.72c-.78.78-.78 2.05 0 2.83L4 21.41c.39.39.9.59 1.41.59.51 0 1.02-.2 1.41-.59l7.78-7.78 2.81-2.81c.8-.78.8-2.07 0-2.86zM5.41 20L4 18.59l7.72-7.72 1.47 1.35L5.41 20z\"/>\n",
              "  </svg>\n",
              "      </button>\n",
              "      \n",
              "  <style>\n",
              "    .colab-df-container {\n",
              "      display:flex;\n",
              "      flex-wrap:wrap;\n",
              "      gap: 12px;\n",
              "    }\n",
              "\n",
              "    .colab-df-convert {\n",
              "      background-color: #E8F0FE;\n",
              "      border: none;\n",
              "      border-radius: 50%;\n",
              "      cursor: pointer;\n",
              "      display: none;\n",
              "      fill: #1967D2;\n",
              "      height: 32px;\n",
              "      padding: 0 0 0 0;\n",
              "      width: 32px;\n",
              "    }\n",
              "\n",
              "    .colab-df-convert:hover {\n",
              "      background-color: #E2EBFA;\n",
              "      box-shadow: 0px 1px 2px rgba(60, 64, 67, 0.3), 0px 1px 3px 1px rgba(60, 64, 67, 0.15);\n",
              "      fill: #174EA6;\n",
              "    }\n",
              "\n",
              "    [theme=dark] .colab-df-convert {\n",
              "      background-color: #3B4455;\n",
              "      fill: #D2E3FC;\n",
              "    }\n",
              "\n",
              "    [theme=dark] .colab-df-convert:hover {\n",
              "      background-color: #434B5C;\n",
              "      box-shadow: 0px 1px 3px 1px rgba(0, 0, 0, 0.15);\n",
              "      filter: drop-shadow(0px 1px 2px rgba(0, 0, 0, 0.3));\n",
              "      fill: #FFFFFF;\n",
              "    }\n",
              "  </style>\n",
              "\n",
              "      <script>\n",
              "        const buttonEl =\n",
              "          document.querySelector('#df-9daee0db-6640-4234-bcd9-217e6e482645 button.colab-df-convert');\n",
              "        buttonEl.style.display =\n",
              "          google.colab.kernel.accessAllowed ? 'block' : 'none';\n",
              "\n",
              "        async function convertToInteractive(key) {\n",
              "          const element = document.querySelector('#df-9daee0db-6640-4234-bcd9-217e6e482645');\n",
              "          const dataTable =\n",
              "            await google.colab.kernel.invokeFunction('convertToInteractive',\n",
              "                                                     [key], {});\n",
              "          if (!dataTable) return;\n",
              "\n",
              "          const docLinkHtml = 'Like what you see? Visit the ' +\n",
              "            '<a target=\"_blank\" href=https://colab.research.google.com/notebooks/data_table.ipynb>data table notebook</a>'\n",
              "            + ' to learn more about interactive tables.';\n",
              "          element.innerHTML = '';\n",
              "          dataTable['output_type'] = 'display_data';\n",
              "          await google.colab.output.renderOutput(dataTable, element);\n",
              "          const docLink = document.createElement('div');\n",
              "          docLink.innerHTML = docLinkHtml;\n",
              "          element.appendChild(docLink);\n",
              "        }\n",
              "      </script>\n",
              "    </div>\n",
              "  </div>\n",
              "  "
            ]
          },
          "metadata": {},
          "execution_count": 3
        }
      ],
      "source": [
        "# Read data in and clean up\n",
        "crimes = pd.read_csv('communities.csv',na_values=['?'])\n",
        "crimes.fillna(crimes.mean(),inplace=True)\n",
        "crimes.drop(columns=['state','country','community','communityname','fold'],inplace=True)\n",
        "print(crimes.shape)\n",
        "crimes.head()"
      ]
    },
    {
      "cell_type": "markdown",
      "metadata": {
        "deletable": false,
        "editable": false,
        "nbgrader": {
          "cell_type": "markdown",
          "checksum": "f727ae4018d2b91ea8fa3730ff58cef8",
          "grade": false,
          "grade_id": "cell-1f861828c271e91f",
          "locked": true,
          "schema_version": 3,
          "solution": false,
          "task": false
        },
        "id": "BF-h2LIpoqYk"
      },
      "source": [
        "The below cell creates the feature matrix X and the target array y, and then splits the data into training and test sets using 20% of the data for the test set."
      ]
    },
    {
      "cell_type": "code",
      "execution_count": 4,
      "metadata": {
        "deletable": false,
        "editable": false,
        "nbgrader": {
          "cell_type": "code",
          "checksum": "175c24ee8923c3c982e76b2196557c38",
          "grade": false,
          "grade_id": "cell-40ab96abd54e01f3",
          "locked": true,
          "schema_version": 3,
          "solution": false,
          "task": false
        },
        "id": "xCABwLCwoqYl"
      },
      "outputs": [],
      "source": [
        "X = crimes.iloc[:,:-1]\n",
        "y = crimes.iloc[:,-1]\n",
        "\n",
        "# Split our data into training and test sets\n",
        "X_train, X_test, y_train, y_test = train_test_split(X,y,random_state=0, test_size=0.2)"
      ]
    },
    {
      "cell_type": "markdown",
      "metadata": {
        "deletable": false,
        "editable": false,
        "nbgrader": {
          "cell_type": "markdown",
          "checksum": "477359ba0c45439c9cea0f1055656f86",
          "grade": false,
          "grade_id": "cell-fc814169806c5865",
          "locked": true,
          "schema_version": 3,
          "solution": false,
          "task": false
        },
        "id": "UzDdeg3LoqYl"
      },
      "source": [
        "### Q5.1 (4 points)\n",
        "Let's start by using a linear regression model on the dataset.  In the cell below, use the training data to train a linear regression model, and return the trained linear model.  Then, run the below cell to calculate the MSE on the test set.  Finally, follow the below instructions to create the plot, and then answer Question 4.1 in the written document (only your written answer will be graded)."
      ]
    },
    {
      "cell_type": "code",
      "execution_count": 7,
      "metadata": {
        "deletable": false,
        "nbgrader": {
          "cell_type": "code",
          "checksum": "b5284f81e6de231d3cdf15b3a0597c10",
          "grade": false,
          "grade_id": "cell-5b20615cf2503662",
          "locked": false,
          "schema_version": 3,
          "solution": true,
          "task": false
        },
        "id": "5rrvc8TQoqYl"
      },
      "outputs": [],
      "source": [
        "def run_linmodel(X_train,y_train):\n",
        "    # YOUR CODE HERE\n",
        "    model = LinearRegression()\n",
        "    model.fit(X_train,y_train)\n",
        "    return model\n",
        "    raise NotImplementedError()"
      ]
    },
    {
      "cell_type": "code",
      "execution_count": 8,
      "metadata": {
        "deletable": false,
        "editable": false,
        "nbgrader": {
          "cell_type": "code",
          "checksum": "ea445f591dcf3cc7ebfb3ff4c50f6611",
          "grade": false,
          "grade_id": "cell-726431281d23992b",
          "locked": true,
          "schema_version": 3,
          "solution": false,
          "task": false
        },
        "colab": {
          "base_uri": "https://localhost:8080/"
        },
        "id": "Sx_N0AjIoqYm",
        "outputId": "2f6caaaf-f216-42e2-faba-a5da0b187306"
      },
      "outputs": [
        {
          "output_type": "stream",
          "name": "stdout",
          "text": [
            "The test set MSE of your model is 0.0209\n"
          ]
        }
      ],
      "source": [
        "# Get test set predictions using your linear model\n",
        "lnmodel = run_linmodel(X_train,y_train)\n",
        "test_preds = lnmodel.predict(X_test)\n",
        "test_mse = 1/len(y_test)*np.sum((test_preds-y_test)**2)\n",
        "print('The test set MSE of your model is {:.4f}'.format(test_mse))"
      ]
    },
    {
      "cell_type": "markdown",
      "metadata": {
        "deletable": false,
        "editable": false,
        "nbgrader": {
          "cell_type": "markdown",
          "checksum": "15786e5b8d7d63716ce03bb3e7da1345",
          "grade": false,
          "grade_id": "cell-765d8f62896244b5",
          "locked": true,
          "schema_version": 3,
          "solution": false,
          "task": false
        },
        "id": "MXqQhahmoqYm"
      },
      "source": [
        "Use the cell below to create a plot of the residuals (errors) versus the predicted values for the **training data**.  Then, answer Question 4.1 in the written document.  In your answer, paste a copy of your residuals vs. predicted values plot and explain how it supports your answers.  Only your written answer in the Word document will be graded, not your code below."
      ]
    },
    {
      "cell_type": "code",
      "execution_count": 10,
      "metadata": {
        "deletable": false,
        "nbgrader": {
          "cell_type": "code",
          "checksum": "8132963bffac1de6b8932b5564f43409",
          "grade": false,
          "grade_id": "cell-6fa4a90c19c958c6",
          "locked": false,
          "schema_version": 3,
          "solution": true,
          "task": false
        },
        "colab": {
          "base_uri": "https://localhost:8080/",
          "height": 387
        },
        "id": "wqrXaiLhoqYm",
        "outputId": "891ef1ad-76e8-433a-b849-ecf31bee63bd"
      },
      "outputs": [
        {
          "output_type": "display_data",
          "data": {
            "text/plain": [
              "<Figure size 576x432 with 1 Axes>"
            ],
            "image/png": "[encoded data removed]"
          },
          "metadata": {
            "needs_background": "light"
          }
        }
      ],
      "source": [
        "# YOUR CODE HERE\n",
        "# Check for linearity of features-target relationship - plot residuals vs each feature\n",
        "train_preds = lnmodel.predict(X_train)\n",
        "resids = y_train - train_preds\n",
        "\n",
        "# Plot the residuals vs. the fitted values\n",
        "plt.figure(figsize=(8,6))\n",
        "plt.scatter(train_preds,resids,color='steelblue',edgecolor='white',s=30)\n",
        "plt.plot(train_preds,np.zeros(shape=len(train_preds)),color='red')\n",
        "plt.xlabel('predictions')\n",
        "plt.ylabel('residuals')\n",
        "plt.show()\n",
        "#raise NotImplementedError()"
      ]
    },
    {
      "cell_type": "markdown",
      "metadata": {
        "deletable": false,
        "editable": false,
        "nbgrader": {
          "cell_type": "markdown",
          "checksum": "5408e3e947b4160985e56276b3f63513",
          "grade": false,
          "grade_id": "cell-6b35af3ff858e56a",
          "locked": true,
          "schema_version": 3,
          "solution": false,
          "task": false
        },
        "id": "RngfIVy-oqYn"
      },
      "source": [
        "### Q5.2 [3 points]\n",
        "Complete the function `build_shallow_tree()` which creates a shallow decision tree model from the training data using `max_depth=2` and `random_state=0`.  You should fit your tree to the training data and then return the fitted tree model.  Then run the cell below to dispay the tree and answer Q4.1 in the written document (put your written answer in the written document, NOT your notebook).  Only what is in the written document will be graded."
      ]
    },
    {
      "cell_type": "code",
      "execution_count": 11,
      "metadata": {
        "deletable": false,
        "nbgrader": {
          "cell_type": "code",
          "checksum": "505f52b0526782a35710fbd0e9b0bc02",
          "grade": false,
          "grade_id": "cell-1a9007aa9605a314",
          "locked": false,
          "schema_version": 3,
          "solution": true,
          "task": false
        },
        "id": "H-lY-KbPoqYn"
      },
      "outputs": [],
      "source": [
        "def build_shallow_tree(X,y):\n",
        "    # YOUR CODE HERE\n",
        "    tree_model = DecisionTreeRegressor(max_depth=2,random_state=0)\n",
        "    tree_model.fit(X_train,y_train)\n",
        "    return tree_model\n",
        "    raise NotImplementedError()"
      ]
    },
    {
      "cell_type": "code",
      "execution_count": 12,
      "metadata": {
        "deletable": false,
        "editable": false,
        "nbgrader": {
          "cell_type": "code",
          "checksum": "d8e5dc61b5fc513dfdc4a67890c052c3",
          "grade": false,
          "grade_id": "cell-3861093a85300660",
          "locked": true,
          "schema_version": 3,
          "solution": false,
          "task": false
        },
        "colab": {
          "base_uri": "https://localhost:8080/",
          "height": 683
        },
        "id": "Jhlpl3SpoqYn",
        "outputId": "eb073680-cece-4d89-bf75-b121a52221d9"
      },
      "outputs": [
        {
          "output_type": "display_data",
          "data": {
            "text/plain": [
              "<Figure size 864x864 with 1 Axes>"
            ],
            "image/png": "[encoded data removed]"
          },
          "metadata": {
            "needs_background": "light"
          }
        }
      ],
      "source": [
        "# Run cell to display your tree\n",
        "tree = build_shallow_tree(X_train,y_train)\n",
        "plt.figure(figsize=(12,12))\n",
        "plot_tree(tree,feature_names=X.columns,filled=True)\n",
        "plt.show()"
      ]
    },
    {
      "cell_type": "markdown",
      "metadata": {
        "deletable": false,
        "editable": false,
        "nbgrader": {
          "cell_type": "markdown",
          "checksum": "2a90b4115196209eedc87b5d858922b8",
          "grade": false,
          "grade_id": "cell-a80976fddcd2873b",
          "locked": true,
          "schema_version": 3,
          "solution": false,
          "task": false
        },
        "id": "xFXySZAcoqYo"
      },
      "source": [
        "Let's look at your shallow tree model's performance on the test set.  Run the cell below to calculate and display the performance on the test set."
      ]
    },
    {
      "cell_type": "code",
      "execution_count": 13,
      "metadata": {
        "deletable": false,
        "editable": false,
        "nbgrader": {
          "cell_type": "code",
          "checksum": "1351a5eef8b9461011c36848fcf4d29f",
          "grade": false,
          "grade_id": "cell-1d8f3e72844866fe",
          "locked": true,
          "schema_version": 3,
          "solution": false,
          "task": false
        },
        "colab": {
          "base_uri": "https://localhost:8080/"
        },
        "id": "W8SFS6jToqYo",
        "outputId": "e77579d7-7182-4131-ac1a-eb93d8df0858"
      },
      "outputs": [
        {
          "output_type": "stream",
          "name": "stdout",
          "text": [
            "MSE train: 0.110, test: 0.119\n"
          ]
        }
      ],
      "source": [
        "# Get the predictions for the training and test sets\n",
        "train_preds = tree.predict(X_train)\n",
        "test_preds = tree.predict(X_test)\n",
        "\n",
        "# Calculate MSE\n",
        "train_mae = 1/len(y_train)*np.sum(np.abs(train_preds-y_train))\n",
        "test_mae = 1/len(y_test)*np.sum(np.abs(test_preds-y_test))\n",
        "print('MSE train: {:.3f}, test: {:.3f}'.format(train_mae,test_mae))"
      ]
    },
    {
      "cell_type": "markdown",
      "metadata": {
        "deletable": false,
        "editable": false,
        "nbgrader": {
          "cell_type": "markdown",
          "checksum": "2ffc7e7c4a248bec878ddee6cfcffe24",
          "grade": false,
          "grade_id": "cell-aa3b4fe970932135",
          "locked": true,
          "schema_version": 3,
          "solution": false,
          "task": false
        },
        "id": "QQwpxq6-oqYo"
      },
      "source": [
        "### Q5.3 [8 points]\n",
        "Complete the function `run_rf_model()` which takes the training and test sets as inputs as well as lists of possible values to evaluate for the hyperparameters `min_samples_leaf` and `max_samples`.  Your function should use cross-validation (you can use `cross_val_score` with 3-fold cross-validation and `neg_mean_squared_error` as the scoring metric) to determine the optimal values for `min_samples_leaf` and `max_features` from among the options in the input lists.  When instantiating the `RandomForestRegressor` be sure to use `random_state=0` and keep everything at the default settings except the two hyperparameters you are optimizing.  After you have found the optimal vlaues for `min_samples_leaf` and `max_features` (from the input lists), create a new random forest model using those hyperparameter values (and `random_state=0`) and re-train it on the entire training set.  Your function should return your trained random forest model using your optimal hyperparameter values.\n",
        "\n",
        "NOTE: you MAY NOT use `GridSearchCV` on this question."
      ]
    },
    {
      "cell_type": "code",
      "execution_count": 15,
      "metadata": {
        "deletable": false,
        "nbgrader": {
          "cell_type": "code",
          "checksum": "f2d259ae43f111a9ab1322e681255d7d",
          "grade": false,
          "grade_id": "cell-f5a7a77c17ee2f29",
          "locked": false,
          "schema_version": 3,
          "solution": true,
          "task": false
        },
        "id": "1_uNFJjroqYo"
      },
      "outputs": [],
      "source": [
        "def run_rf_model(X_train,y_train,minsamplesleaf_vals,maxfeatures_vals):\n",
        "    # YOUR CODE HERE\n",
        "    scores=[]\n",
        "    leaf_vals = []\n",
        "    feat_vals = []\n",
        "    for leaf in minsamplesleaf_vals:\n",
        "      for feat in maxfeatures_vals:\n",
        "        rf_model = RandomForestRegressor(min_samples_leaf=leaf, max_features=feat, random_state=0)\n",
        "        score = cross_val_score(rf_model,X_train,y_train,scoring='neg_mean_squared_error',cv=3)\n",
        "        scores.append(-np.mean(score))\n",
        "        leaf_vals.append(leaf)\n",
        "        feat_vals.append(feat)\n",
        "    idx = np.argmin(scores)\n",
        "    opt_leaf = leaf_vals[idx]\n",
        "    opt_feat = feat_vals[idx]\n",
        "\n",
        "    rf_model_opt = RandomForestRegressor(min_samples_leaf=opt_leaf, max_features=opt_feat, random_state=0)\n",
        "    rf_model_opt.fit(X_train, y_train)\n",
        "    return rf_model_opt\n",
        "\n",
        "    raise NotImplementedError()"
      ]
    },
    {
      "cell_type": "code",
      "execution_count": 16,
      "metadata": {
        "deletable": false,
        "editable": false,
        "nbgrader": {
          "cell_type": "code",
          "checksum": "6a88c487d4db4aebc67a69079a337552",
          "grade": true,
          "grade_id": "cell-3ec317a1a22e3bce",
          "locked": true,
          "points": 8,
          "schema_version": 3,
          "solution": false,
          "task": false
        },
        "colab": {
          "base_uri": "https://localhost:8080/"
        },
        "id": "FNc_FzK0oqYp",
        "outputId": "f1a32768-fc14-4d4a-cc25-5c17674514e2"
      },
      "outputs": [
        {
          "output_type": "stream",
          "name": "stdout",
          "text": [
            "Your function found the optimal value of min_samples_leaf was 5\n",
            "Your function found the optimal value of max_features was 0.5\n",
            "The test set MSE of your model is 0.0203\n"
          ]
        }
      ],
      "source": [
        "# Test cell for run_rf_model\n",
        "# This may take a minute to run\n",
        "\n",
        "minsamplesleaf_vals = [1,5,20] #List of values to evaluate for min_samples_leaf\n",
        "maxfeatures_vals = [0.5,1.] #List of values to evaluate for max_features\n",
        "\n",
        "opt_rf = run_rf_model(X_train,y_train,minsamplesleaf_vals,maxfeatures_vals)\n",
        "print('Your function found the optimal value of min_samples_leaf was {}'.format(opt_rf.get_params()['min_samples_leaf']))\n",
        "print('Your function found the optimal value of max_features was {}'.format(opt_rf.get_params()['max_features']))\n",
        "    \n",
        "test_preds = opt_rf.predict(X_test)\n",
        "test_mse = 1/len(y_test)*np.sum((test_preds-y_test)**2)\n",
        "print('The test set MSE of your model is {:.4f}'.format(test_mse))\n"
      ]
    },
    {
      "cell_type": "markdown",
      "metadata": {
        "deletable": false,
        "editable": false,
        "nbgrader": {
          "cell_type": "markdown",
          "checksum": "d0be62a20dd11c685637d6e20c954b85",
          "grade": false,
          "grade_id": "cell-19aeaf77a85020e1",
          "locked": true,
          "schema_version": 3,
          "solution": false,
          "task": false
        },
        "id": "o11s-Fp1oqYp"
      },
      "source": [
        "### Q5.4 [4 points]\n",
        "Let's now see which features are most valuable in predicting the violent crime rate.  Complete the below function `top_three_feats()` which takes as input your optimized random forest model and a list of the feature names (`feat_names`) and calculates the importance of each feature using the random forest model's feature importance scores.  Your function should return two lists: the first list should contain the feature names of the 3 most important features, and the second list should contain the feature importance scores of each of the top 3 features.  Both lists should be ordered in descending order with the most important feature first, and should contain ONLY the top 3 features."
      ]
    },
    {
      "cell_type": "code",
      "execution_count": 50,
      "metadata": {
        "deletable": false,
        "nbgrader": {
          "cell_type": "code",
          "checksum": "a462b28199335ff36924bbc554ed347d",
          "grade": false,
          "grade_id": "cell-87b7465c02f1b660",
          "locked": false,
          "schema_version": 3,
          "solution": true,
          "task": false
        },
        "id": "xcM5H1zooqYp"
      },
      "outputs": [],
      "source": [
        "def top_three_feats(model,feat_names):\n",
        "    # YOUR CODE HERE\n",
        "    ### BEGIN SOLUTION ###\n",
        "    # Determine the relative importance of each feature using the random forest model\n",
        "    importances = model.feature_importances_\n",
        "    # Get an array of the indices that would sort \"importances\" in reverse order to get largest to smallest\n",
        "    indices = np.argsort(importances)[::-1]\n",
        "    ranked_feats = []\n",
        "    for i in range(len(indices)):\n",
        "        feat_name = feat_names[indices[i]]\n",
        "        ranked_feats.append(feat_name)\n",
        "    RF_ranking = pd.DataFrame()\n",
        "    RF_ranking['Feat Index'] = indices\n",
        "    RF_ranking['Feature'] = ranked_feats\n",
        "    RF_ranking['Importance'] = np.sort(importances)[::-1]\n",
        "    \n",
        "    return RF_ranking.iloc[0:3]['Feature'].to_list(), RF_ranking.iloc[0:3]['Importance'].to_list()\n",
        "    raise NotImplementedError()"
      ]
    },
    {
      "cell_type": "code",
      "execution_count": 51,
      "metadata": {
        "deletable": false,
        "editable": false,
        "nbgrader": {
          "cell_type": "code",
          "checksum": "9a1441695c9c12425422d1cbc00c8e08",
          "grade": true,
          "grade_id": "cell-ff51ca884c191fcf",
          "locked": true,
          "points": 4,
          "schema_version": 3,
          "solution": false,
          "task": false
        },
        "colab": {
          "base_uri": "https://localhost:8080/"
        },
        "id": "Ts_1JdrjoqYq",
        "outputId": "1ce0e3f4-b919-4b61-c63e-56a9f5dd24a1"
      },
      "outputs": [
        {
          "output_type": "stream",
          "name": "stdout",
          "text": [
            "Your top 3 most important features are:\n",
            "PctIllegitimateChild, with importance score 0.267\n",
            "PctKids2Par, with importance score 0.196\n",
            "racePctWhite, with importance score 0.073\n"
          ]
        }
      ],
      "source": [
        "# Test cell for top_three_feats()\n",
        "feature_names=X.columns\n",
        "top_feats,scores = top_three_feats(opt_rf,feature_names)\n",
        "print('Your top 3 most important features are:')\n",
        "for feat,score in zip(top_feats,scores):\n",
        "    print('{}, with importance score {:.3f}'.format(feat,score))\n",
        "    \n",
        "assert len(top_feats)==3\n",
        "assert len(scores)==3\n",
        "assert scores[0] >= scores[1]"
      ]
    },
    {
      "cell_type": "markdown",
      "metadata": {
        "deletable": false,
        "editable": false,
        "nbgrader": {
          "cell_type": "markdown",
          "checksum": "cfeefd956bc85ea3763f2992bbde1bf0",
          "grade": false,
          "grade_id": "cell-169fe8efba6860e8",
          "locked": true,
          "schema_version": 3,
          "solution": false,
          "task": false
        },
        "id": "xlSzyIG0oqYq"
      },
      "source": [
        "### Q5.5 [6 points]\n",
        "Let's now try a gradient boosting model on our dataset.  Complete the below function `run_boosting_model()` which takes as inputs the training data as well as lists of possible values to evaluate for the hyperparameters `min_samples_leaf` and `n_estimators`.  Your function should use cross-validation (you can use `cross_val_score` with 3-fold cross-validation and `neg_mean_squared_error` as the scoring metric) to determine the optimal values for `min_samples_leaf` and `n_estimators` from among the options in the input lists.  When instantiating the `GradientBoostingRegressor` be sure to use `random_state=0` and keep everything at the default settings except the two hyperparameters you are optimizing.  After you have found the optimal vlaues for `min_samples_leaf` and `n_estimators` (from the input lists), create a new `GradientBoostingRegressor` model using those hyperparameter values (and `random_state=0`) and re-train it on the entire training set.  Your function should return your trained model using your optimal hyperparameter values.\n",
        "\n",
        "NOTE: you MAY NOT use `GridSearchCV` on this question."
      ]
    },
    {
      "cell_type": "code",
      "execution_count": 17,
      "metadata": {
        "deletable": false,
        "nbgrader": {
          "cell_type": "code",
          "checksum": "1df273ee42f99dd76490735d11ac3658",
          "grade": false,
          "grade_id": "cell-21d7df68fbcc531a",
          "locked": false,
          "schema_version": 3,
          "solution": true,
          "task": false
        },
        "id": "vDhNQmTGoqYq"
      },
      "outputs": [],
      "source": [
        "def run_boosting_model(X_train,y_train,minsamplesleaf_vals,nestimator_vals):\n",
        "    # YOUR CODE HERE\n",
        "    scores=[]\n",
        "    leaf_vals = []\n",
        "    est_vals = []\n",
        "    for leaf in minsamplesleaf_vals:\n",
        "      for est in nestimator_vals:\n",
        "        boosting_model = GradientBoostingRegressor(min_samples_leaf=leaf,n_estimators=est,random_state=0)\n",
        "        score = cross_val_score(boosting_model,X_train,y_train,scoring='neg_mean_squared_error',cv=3)\n",
        "        scores.append(-np.mean(score))\n",
        "        leaf_vals.append(leaf)\n",
        "        est_vals.append(est)\n",
        "    idx = np.argmin(scores)\n",
        "    opt_leaf = leaf_vals[idx]\n",
        "    opt_est = est_vals[idx]\n",
        "\n",
        "    boosting_model_opt = GradientBoostingRegressor(min_samples_leaf=opt_leaf,n_estimators=opt_est,random_state=0)\n",
        "    boosting_model_opt.fit(X_train, y_train)\n",
        "    return boosting_model_opt\n",
        "    raise NotImplementedError()"
      ]
    },
    {
      "cell_type": "code",
      "execution_count": 18,
      "metadata": {
        "deletable": false,
        "editable": false,
        "nbgrader": {
          "cell_type": "code",
          "checksum": "35ca85699b72a8c81f8e574f18e0e63f",
          "grade": true,
          "grade_id": "cell-1bca090532d839be",
          "locked": true,
          "points": 6,
          "schema_version": 3,
          "solution": false,
          "task": false
        },
        "colab": {
          "base_uri": "https://localhost:8080/"
        },
        "id": "ekKexbuRoqYq",
        "outputId": "4e48c08b-0520-4bf8-f5a0-05aeb329efed"
      },
      "outputs": [
        {
          "output_type": "stream",
          "name": "stdout",
          "text": [
            "Your function found the optimal value of min_samples_leaf was 5\n",
            "Your function found the optimal value of n_estimators was 100\n",
            "The test set MSE of your model is 0.0211\n"
          ]
        }
      ],
      "source": [
        "# Test cell for run_boosting_model\n",
        "# This may take a minute to run\n",
        "\n",
        "minsamplesleaf_vals = [5,20] #List of values to evaluate for min_samples_leaf\n",
        "nestimator_vals = [50,100] #List of values to evaluate for n_estimators\n",
        "\n",
        "opt_boosting = run_boosting_model(X_train,y_train,minsamplesleaf_vals,nestimator_vals)\n",
        "print('Your function found the optimal value of min_samples_leaf was {}'.format(opt_boosting.get_params()['min_samples_leaf']))\n",
        "print('Your function found the optimal value of n_estimators was {}'.format(opt_boosting.get_params()['n_estimators']))\n",
        "    \n",
        "test_preds = opt_boosting.predict(X_test)\n",
        "test_mse = 1/len(y_test)*np.sum((test_preds-y_test)**2)\n",
        "print('The test set MSE of your model is {:.4f}'.format(test_mse))\n"
      ]
    },
    {
      "cell_type": "markdown",
      "metadata": {
        "deletable": false,
        "editable": false,
        "nbgrader": {
          "cell_type": "markdown",
          "checksum": "cbacce836d3676cd9afe1ea1d266fa07",
          "grade": false,
          "grade_id": "cell-d22b993585ab73c9",
          "locked": true,
          "schema_version": 3,
          "solution": false,
          "task": false
        },
        "id": "VtMHRl6boqYq"
      },
      "source": [
        "## Question 6: Neural Network [16 pts]\n",
        "We will now use a neural network in PyTorch to model the violent crimes data from the previous question."
      ]
    },
    {
      "cell_type": "code",
      "execution_count": 19,
      "metadata": {
        "deletable": false,
        "editable": false,
        "nbgrader": {
          "cell_type": "code",
          "checksum": "89b050b2ce228e2a1213937c5ac5b61e",
          "grade": false,
          "grade_id": "cell-cf032bd7547db7e0",
          "locked": true,
          "schema_version": 3,
          "solution": false,
          "task": false
        },
        "id": "E1pMm55goqYr"
      },
      "outputs": [],
      "source": [
        "X = crimes.iloc[:,:-1]\n",
        "y = crimes.iloc[:,-1]\n",
        "\n",
        "# Split our data into training and test sets\n",
        "X_train, X_test, y_train, y_test = train_test_split(X,y,random_state=0, test_size=0.2)"
      ]
    },
    {
      "cell_type": "markdown",
      "metadata": {
        "deletable": false,
        "editable": false,
        "nbgrader": {
          "cell_type": "markdown",
          "checksum": "e9ba2fa997b9313d5b40edc9c0d047a8",
          "grade": false,
          "grade_id": "cell-80b72c26141bb6f7",
          "locked": true,
          "schema_version": 3,
          "solution": false,
          "task": false
        },
        "id": "2OqcgaJEoqYr"
      },
      "source": [
        "### Q6.1 [3 points]\n",
        "Complete the below function `prep_dataloaders()`, which takes as input the training and test data and the batch size.  The function should create TensorDatasets for the training and test data and then create DataLoaders for each set.  Your function should return the training dataloader and test dataloader.  Be sure to set `shuffle=False` for the test set dataloader."
      ]
    },
    {
      "cell_type": "code",
      "execution_count": 61,
      "metadata": {
        "deletable": false,
        "nbgrader": {
          "cell_type": "code",
          "checksum": "1db421dfe493c479dc44b8f3dc42c3d4",
          "grade": false,
          "grade_id": "cell-9555e4b68ed03fba",
          "locked": false,
          "schema_version": 3,
          "solution": true,
          "task": false
        },
        "id": "fNxXZ3pdoqYr"
      },
      "outputs": [],
      "source": [
        "def prep_dataloaders(X_train,y_train,X_test,y_test,batch_size):\n",
        "    # YOUR CODE HERE\n",
        "    # Set random seeds\n",
        "    torch.manual_seed(0)\n",
        "    if torch.cuda.is_available():\n",
        "        torch.cuda.manual_seed(0)\n",
        "\n",
        "    # Convert training and test data to TensorDatasets\n",
        "    trainset = TensorDataset(torch.tensor(X_train.values), \n",
        "                            torch.tensor(y_train.values))\n",
        "    testset = TensorDataset(torch.tensor(X_test.values), \n",
        "                            torch.tensor(y_test.values))\n",
        "\n",
        "    # Create Dataloaders for our training and test data to allow us to iterate over minibatches \n",
        "    trainloader = torch.utils.data.DataLoader(trainset, batch_size=batch_size, shuffle=True)\n",
        "    testloader = torch.utils.data.DataLoader(testset, batch_size=batch_size, shuffle=False)\n",
        "    return trainloader, testloader\n",
        "    raise NotImplementedError()"
      ]
    },
    {
      "cell_type": "code",
      "execution_count": 62,
      "metadata": {
        "deletable": false,
        "editable": false,
        "nbgrader": {
          "cell_type": "code",
          "checksum": "204db7ce2a363f18b198962687a83a7f",
          "grade": true,
          "grade_id": "cell-e9146c932d3dacd3",
          "locked": true,
          "points": 3,
          "schema_version": 3,
          "solution": false,
          "task": false
        },
        "id": "ed3l3h5voqYr"
      },
      "outputs": [],
      "source": [
        "# Test cell for prep_dataloader\n",
        "batchsize = 32\n",
        "trainloader,testloader = prep_dataloaders(X_train,y_train,X_test,y_test,batchsize)\n",
        "chunk = next(iter(trainloader))\n",
        "assert len(chunk) == 2\n",
        "assert len(chunk[1]==batchsize)\n"
      ]
    },
    {
      "cell_type": "markdown",
      "metadata": {
        "deletable": false,
        "editable": false,
        "nbgrader": {
          "cell_type": "markdown",
          "checksum": "a5f3f25c72104f04a2b5e8a0c8310e72",
          "grade": false,
          "grade_id": "cell-74a4d45d76d48b82",
          "locked": true,
          "schema_version": 3,
          "solution": false,
          "task": false
        },
        "id": "uTxOOGD5oqYr"
      },
      "source": [
        "### Q6.2 [5 points]\n",
        "Complete the below class `RegressionNet`.  The class should contain an `__init__` method to initiate the neural network and a `forward` method to pass data forward through the network and return the output of the model.  \n",
        "\n",
        "Your `RegressionNet` architecture should contain 3 sets of weights using the following names for each set:  \n",
        "- `self.hidden1`: a fully-connected linear layer which receives the feature inputs and passes them to hidden1 \n",
        "- `self.hidden2`: a fully-connected linear layer which receives the outputs from the hidden1 layer and passes them to hidden2. \n",
        "- `self.out`: a ully-connected linear layer which receives the outputs from the hidden2 layer and passes them out of the network as the output\n",
        "\n",
        "Each of the 2 hidden layers should be followed by a ReLu activation function.  The output layer should not contain any activation function.\n",
        "\n",
        "The number of units for hidden1 and hidden2 layers are passed as inputs when the RegressionNet is initialized.  You should hardcode any other needed values to define the network."
      ]
    },
    {
      "cell_type": "code",
      "execution_count": 26,
      "metadata": {
        "deletable": false,
        "nbgrader": {
          "cell_type": "code",
          "checksum": "0bd6ab70d65d1050fec34f46cd53a620",
          "grade": false,
          "grade_id": "cell-fba68384e4b9d64d",
          "locked": false,
          "schema_version": 3,
          "solution": true,
          "task": false
        },
        "id": "YNevJitgoqYs"
      },
      "outputs": [],
      "source": [
        "class RegressionNet(nn.Module):\n",
        "    def __init__(self, n_hidden1, n_hidden2):\n",
        "        super().__init__()\n",
        "        # YOUR CODE HERE\n",
        "        self.hidden1 = nn.Linear(n_input, n_hidden1)\n",
        "        self.hidden2 = nn.Linear(n_hidden1, n_hidden2)\n",
        "        self.out = nn.Linear(n_hidden2, n_output)\n",
        "        raise NotImplementedError()\n",
        "\n",
        "    def forward(self, x):\n",
        "        # YOUR CODE HERE\n",
        "        x = self.hidden1(x)\n",
        "        x = F.relu(x)\n",
        "        x = self.hidden2(x)\n",
        "        x = F.relu(x)\n",
        "        x = self.out(x)\n",
        "        return x\n",
        "\n",
        "        raise NotImplementedError()"
      ]
    },
    {
      "cell_type": "code",
      "execution_count": 27,
      "metadata": {
        "deletable": false,
        "editable": false,
        "nbgrader": {
          "cell_type": "code",
          "checksum": "0b779fc781c51175a530a8ca526eed8a",
          "grade": true,
          "grade_id": "cell-b43d622afc6f1b1f",
          "locked": true,
          "points": 5,
          "schema_version": 3,
          "solution": false,
          "task": false
        },
        "colab": {
          "base_uri": "https://localhost:8080/",
          "height": 374
        },
        "id": "B1DAIpVyoqYs",
        "outputId": "b58a7128-8cd8-4dca-ca9e-9a656a5d7e39"
      },
      "outputs": [
        {
          "output_type": "error",
          "ename": "NameError",
          "evalue": "ignored",
          "traceback": [
            "\u001b[0;31m---------------------------------------------------------------------------\u001b[0m",
            "\u001b[0;31mNameError\u001b[0m                                 Traceback (most recent call last)",
            "\u001b[0;32m<ipython-input-27-1e1420872fdb>\u001b[0m in \u001b[0;36m<module>\u001b[0;34m()\u001b[0m\n\u001b[1;32m      2\u001b[0m \u001b[0;31m# Instantiate our neural network\u001b[0m\u001b[0;34m\u001b[0m\u001b[0;34m\u001b[0m\u001b[0;34m\u001b[0m\u001b[0m\n\u001b[1;32m      3\u001b[0m \u001b[0;34m\u001b[0m\u001b[0m\n\u001b[0;32m----> 4\u001b[0;31m \u001b[0mnet\u001b[0m \u001b[0;34m=\u001b[0m \u001b[0mRegressionNet\u001b[0m\u001b[0;34m(\u001b[0m\u001b[0mn_hidden1\u001b[0m\u001b[0;34m=\u001b[0m\u001b[0;36m50\u001b[0m\u001b[0;34m,\u001b[0m \u001b[0mn_hidden2\u001b[0m\u001b[0;34m=\u001b[0m\u001b[0;36m5\u001b[0m\u001b[0;34m)\u001b[0m\u001b[0;34m\u001b[0m\u001b[0;34m\u001b[0m\u001b[0m\n\u001b[0m\u001b[1;32m      5\u001b[0m \u001b[0;34m\u001b[0m\u001b[0m\n\u001b[1;32m      6\u001b[0m \u001b[0;32massert\u001b[0m \u001b[0mnet\u001b[0m\u001b[0;34m.\u001b[0m\u001b[0mhidden1\u001b[0m\u001b[0;34m.\u001b[0m\u001b[0mout_features\u001b[0m \u001b[0;34m==\u001b[0m \u001b[0mnet\u001b[0m\u001b[0;34m.\u001b[0m\u001b[0mhidden2\u001b[0m\u001b[0;34m.\u001b[0m\u001b[0min_features\u001b[0m\u001b[0;34m\u001b[0m\u001b[0;34m\u001b[0m\u001b[0m\n",
            "\u001b[0;32m<ipython-input-26-f15424d1fdb2>\u001b[0m in \u001b[0;36m__init__\u001b[0;34m(self, n_hidden1, n_hidden2)\u001b[0m\n\u001b[1;32m      3\u001b[0m         \u001b[0msuper\u001b[0m\u001b[0;34m(\u001b[0m\u001b[0;34m)\u001b[0m\u001b[0;34m.\u001b[0m\u001b[0m__init__\u001b[0m\u001b[0;34m(\u001b[0m\u001b[0;34m)\u001b[0m\u001b[0;34m\u001b[0m\u001b[0;34m\u001b[0m\u001b[0m\n\u001b[1;32m      4\u001b[0m         \u001b[0;31m# YOUR CODE HERE\u001b[0m\u001b[0;34m\u001b[0m\u001b[0;34m\u001b[0m\u001b[0;34m\u001b[0m\u001b[0m\n\u001b[0;32m----> 5\u001b[0;31m         \u001b[0mself\u001b[0m\u001b[0;34m.\u001b[0m\u001b[0mhidden1\u001b[0m \u001b[0;34m=\u001b[0m \u001b[0mnn\u001b[0m\u001b[0;34m.\u001b[0m\u001b[0mLinear\u001b[0m\u001b[0;34m(\u001b[0m\u001b[0mn_input\u001b[0m\u001b[0;34m,\u001b[0m \u001b[0mn_hidden1\u001b[0m\u001b[0;34m)\u001b[0m\u001b[0;34m\u001b[0m\u001b[0;34m\u001b[0m\u001b[0m\n\u001b[0m\u001b[1;32m      6\u001b[0m         \u001b[0mself\u001b[0m\u001b[0;34m.\u001b[0m\u001b[0mhidden2\u001b[0m \u001b[0;34m=\u001b[0m \u001b[0mnn\u001b[0m\u001b[0;34m.\u001b[0m\u001b[0mLinear\u001b[0m\u001b[0;34m(\u001b[0m\u001b[0mn_hidden1\u001b[0m\u001b[0;34m,\u001b[0m \u001b[0mn_hidden2\u001b[0m\u001b[0;34m)\u001b[0m\u001b[0;34m\u001b[0m\u001b[0;34m\u001b[0m\u001b[0m\n\u001b[1;32m      7\u001b[0m         \u001b[0mself\u001b[0m\u001b[0;34m.\u001b[0m\u001b[0mout\u001b[0m \u001b[0;34m=\u001b[0m \u001b[0mnn\u001b[0m\u001b[0;34m.\u001b[0m\u001b[0mLinear\u001b[0m\u001b[0;34m(\u001b[0m\u001b[0mn_hidden2\u001b[0m\u001b[0;34m,\u001b[0m \u001b[0mn_output\u001b[0m\u001b[0;34m)\u001b[0m\u001b[0;34m\u001b[0m\u001b[0;34m\u001b[0m\u001b[0m\n",
            "\u001b[0;31mNameError\u001b[0m: name 'n_input' is not defined"
          ]
        }
      ],
      "source": [
        "# Test cell for RegressionNet\n",
        "# Instantiate our neural network\n",
        "\n",
        "net = RegressionNet(n_hidden1=50, n_hidden2=5)\n",
        "\n",
        "assert net.hidden1.out_features == net.hidden2.in_features\n",
        "assert net.out.in_features == 5\n"
      ]
    },
    {
      "cell_type": "markdown",
      "metadata": {
        "deletable": false,
        "editable": false,
        "nbgrader": {
          "cell_type": "markdown",
          "checksum": "754581d61ae4903e60da533da20c0091",
          "grade": false,
          "grade_id": "cell-117b90643eddfe4b",
          "locked": true,
          "schema_version": 3,
          "solution": false,
          "task": false
        },
        "id": "bX-cffYSoqYs"
      },
      "source": [
        "### Q6.3 [4 points]\n",
        "Complete the below function `train_model()` which takes as input the instantiated RegressionNet, the loss function (`criterion`), the optimizer, the trainloader, and the number of epochs (`num_iter`).  The function should use the minibatches in the trainloader to train the model for the input number of iterations/epochs `num_iter`.  Your function should return a list of the total cost/loss values (as floats) for each iteration of the training (NOT each individual minibatch, but rather the sum of the loss across all minibatches for each iteration/epoch).\n",
        "\n",
        "Hint: if you are getting a dimension mismatch error between the model outputs (`outputs`) and the labels (`labels`), check the dimensions of each and you might need to reshape one or the other so that they match."
      ]
    },
    {
      "cell_type": "code",
      "execution_count": 28,
      "metadata": {
        "deletable": false,
        "nbgrader": {
          "cell_type": "code",
          "checksum": "6833cc56a1d697b6f174c241b14add59",
          "grade": false,
          "grade_id": "cell-7382427fe92f84e6",
          "locked": false,
          "schema_version": 3,
          "solution": true,
          "task": false
        },
        "id": "getJjLOFoqYs"
      },
      "outputs": [],
      "source": [
        "def train_model(model,criterion,optimizer,trainloader,num_iter):\n",
        "    model.train() # Set the model to training mode\n",
        "    # YOUR CODE HERE\n",
        "    # Define the cost / loss function\n",
        "    cost_fn = criterion\n",
        "\n",
        "    # Define the method of updating the weights each iteration (e.g. gradient descent)\n",
        "    optimizer = optimizer\n",
        "    # Set device\n",
        "    device = torch.device(\"cuda\" if torch.cuda.is_available() else \"cpu\")\n",
        "    num_iter = num_iter\n",
        "    cost = []\n",
        "    net = model\n",
        "    net = net.to(device)\n",
        "    net.train() # Set the model to training mode\n",
        "\n",
        "    for epoch in range(num_iter):\n",
        "\n",
        "        running_loss = 0.0\n",
        "        \n",
        "        for i, data in enumerate(trainloader):\n",
        "            \n",
        "            # Get the inputs X and labels y for the minibatch\n",
        "            inputs, labels = data[0].to(device), data[1].to(device)\n",
        "\n",
        "            # Zero the gradients of the weights each iteration\n",
        "            optimizer.zero_grad()\n",
        "\n",
        "            # Calculate the predictions and the cost/loss\n",
        "            outputs = net(inputs).view(-1) # Convert outputs to 1D array instead of 2D to match labels\n",
        "            loss = cost_fn(outputs, labels)\n",
        "            \n",
        "            # Use autograd to calculate the gradient of the cost with respect to each weight\n",
        "            loss.backward()\n",
        "            \n",
        "            # Use the optimizer to do the weights update\n",
        "            optimizer.step()\n",
        "\n",
        "            # Store the cost/loss\n",
        "            running_loss += loss.item()\n",
        "            \n",
        "        cost.append(running_loss)\n",
        "            \n",
        "    plt.plot(cost)\n",
        "    plt.xlabel('Epoch')\n",
        "    plt.ylabel('Cost/loss')\n",
        "    plt.show()\n",
        "\n",
        "\n",
        "    raise NotImplementedError()"
      ]
    },
    {
      "cell_type": "code",
      "execution_count": 29,
      "metadata": {
        "deletable": false,
        "editable": false,
        "nbgrader": {
          "cell_type": "code",
          "checksum": "5a00e3d5ca5e2385392a89de658b2528",
          "grade": true,
          "grade_id": "cell-3058881162b7bbf2",
          "locked": true,
          "points": 4,
          "schema_version": 3,
          "solution": false,
          "task": false
        },
        "colab": {
          "base_uri": "https://localhost:8080/",
          "height": 374
        },
        "id": "EvTVWNvuoqYs",
        "outputId": "e8aa7737-de44-49d2-abce-d77ca7b338c8"
      },
      "outputs": [
        {
          "output_type": "error",
          "ename": "NameError",
          "evalue": "ignored",
          "traceback": [
            "\u001b[0;31m---------------------------------------------------------------------------\u001b[0m",
            "\u001b[0;31mNameError\u001b[0m                                 Traceback (most recent call last)",
            "\u001b[0;32m<ipython-input-29-0b0a1d9ac86b>\u001b[0m in \u001b[0;36m<module>\u001b[0;34m()\u001b[0m\n\u001b[1;32m      2\u001b[0m \u001b[0;31m# This may take some time to run\u001b[0m\u001b[0;34m\u001b[0m\u001b[0;34m\u001b[0m\u001b[0;34m\u001b[0m\u001b[0m\n\u001b[1;32m      3\u001b[0m \u001b[0;34m\u001b[0m\u001b[0m\n\u001b[0;32m----> 4\u001b[0;31m \u001b[0mnet\u001b[0m \u001b[0;34m=\u001b[0m \u001b[0mRegressionNet\u001b[0m\u001b[0;34m(\u001b[0m\u001b[0mn_hidden1\u001b[0m\u001b[0;34m=\u001b[0m\u001b[0;36m50\u001b[0m\u001b[0;34m,\u001b[0m \u001b[0mn_hidden2\u001b[0m\u001b[0;34m=\u001b[0m\u001b[0;36m5\u001b[0m\u001b[0;34m)\u001b[0m\u001b[0;34m\u001b[0m\u001b[0;34m\u001b[0m\u001b[0m\n\u001b[0m\u001b[1;32m      5\u001b[0m \u001b[0;31m# Define the cost / loss function\u001b[0m\u001b[0;34m\u001b[0m\u001b[0;34m\u001b[0m\u001b[0;34m\u001b[0m\u001b[0m\n\u001b[1;32m      6\u001b[0m \u001b[0mcriterion\u001b[0m \u001b[0;34m=\u001b[0m \u001b[0mnn\u001b[0m\u001b[0;34m.\u001b[0m\u001b[0mMSELoss\u001b[0m\u001b[0;34m(\u001b[0m\u001b[0;34m)\u001b[0m\u001b[0;34m\u001b[0m\u001b[0;34m\u001b[0m\u001b[0m\n",
            "\u001b[0;32m<ipython-input-26-f15424d1fdb2>\u001b[0m in \u001b[0;36m__init__\u001b[0;34m(self, n_hidden1, n_hidden2)\u001b[0m\n\u001b[1;32m      3\u001b[0m         \u001b[0msuper\u001b[0m\u001b[0;34m(\u001b[0m\u001b[0;34m)\u001b[0m\u001b[0;34m.\u001b[0m\u001b[0m__init__\u001b[0m\u001b[0;34m(\u001b[0m\u001b[0;34m)\u001b[0m\u001b[0;34m\u001b[0m\u001b[0;34m\u001b[0m\u001b[0m\n\u001b[1;32m      4\u001b[0m         \u001b[0;31m# YOUR CODE HERE\u001b[0m\u001b[0;34m\u001b[0m\u001b[0;34m\u001b[0m\u001b[0;34m\u001b[0m\u001b[0m\n\u001b[0;32m----> 5\u001b[0;31m         \u001b[0mself\u001b[0m\u001b[0;34m.\u001b[0m\u001b[0mhidden1\u001b[0m \u001b[0;34m=\u001b[0m \u001b[0mnn\u001b[0m\u001b[0;34m.\u001b[0m\u001b[0mLinear\u001b[0m\u001b[0;34m(\u001b[0m\u001b[0mn_input\u001b[0m\u001b[0;34m,\u001b[0m \u001b[0mn_hidden1\u001b[0m\u001b[0;34m)\u001b[0m\u001b[0;34m\u001b[0m\u001b[0;34m\u001b[0m\u001b[0m\n\u001b[0m\u001b[1;32m      6\u001b[0m         \u001b[0mself\u001b[0m\u001b[0;34m.\u001b[0m\u001b[0mhidden2\u001b[0m \u001b[0;34m=\u001b[0m \u001b[0mnn\u001b[0m\u001b[0;34m.\u001b[0m\u001b[0mLinear\u001b[0m\u001b[0;34m(\u001b[0m\u001b[0mn_hidden1\u001b[0m\u001b[0;34m,\u001b[0m \u001b[0mn_hidden2\u001b[0m\u001b[0;34m)\u001b[0m\u001b[0;34m\u001b[0m\u001b[0;34m\u001b[0m\u001b[0m\n\u001b[1;32m      7\u001b[0m         \u001b[0mself\u001b[0m\u001b[0;34m.\u001b[0m\u001b[0mout\u001b[0m \u001b[0;34m=\u001b[0m \u001b[0mnn\u001b[0m\u001b[0;34m.\u001b[0m\u001b[0mLinear\u001b[0m\u001b[0;34m(\u001b[0m\u001b[0mn_hidden2\u001b[0m\u001b[0;34m,\u001b[0m \u001b[0mn_output\u001b[0m\u001b[0;34m)\u001b[0m\u001b[0;34m\u001b[0m\u001b[0;34m\u001b[0m\u001b[0m\n",
            "\u001b[0;31mNameError\u001b[0m: name 'n_input' is not defined"
          ]
        }
      ],
      "source": [
        "# Test cell for train_model()\n",
        "# This may take some time to run\n",
        "\n",
        "net = RegressionNet(n_hidden1=50, n_hidden2=5)\n",
        "# Define the cost / loss function\n",
        "criterion = nn.MSELoss()\n",
        "# Define the method of updating the weights each iteration\n",
        "optimizer = optim.SGD(net.parameters(), lr=0.01)\n",
        "# Number of iterations (epochs) to train\n",
        "n_iter = 200\n",
        "\n",
        "cost_path = train_model(net,criterion,optimizer,trainloader,n_iter)\n",
        "\n",
        "plt.plot(cost_path)\n",
        "plt.xlabel('Epoch')\n",
        "plt.ylabel('Loss')\n",
        "plt.show()\n",
        "\n",
        "assert len(cost_path)==n_iter\n"
      ]
    },
    {
      "cell_type": "markdown",
      "metadata": {
        "deletable": false,
        "editable": false,
        "nbgrader": {
          "cell_type": "markdown",
          "checksum": "d0c092be062ec9d05d01776dae5d6134",
          "grade": false,
          "grade_id": "cell-a32c694f567bec76",
          "locked": true,
          "schema_version": 3,
          "solution": false,
          "task": false
        },
        "id": "6V3Kuii7oqYt"
      },
      "source": [
        "### Q6.4 [4 points]\n",
        "Complete the below function `test_model()` which takes as input your trained model and the PyTorch dataloader for your test set `testloader`. The function should iterate through all the minibatches in the testloader, passing the data through the model to get the model outputs. Your function should return a list of the model predictions on the test set."
      ]
    },
    {
      "cell_type": "code",
      "execution_count": 36,
      "metadata": {
        "deletable": false,
        "nbgrader": {
          "cell_type": "code",
          "checksum": "c7f855bdb851e95d7100a3e3f7f8fc39",
          "grade": false,
          "grade_id": "cell-b641b8fef483a197",
          "locked": false,
          "schema_version": 3,
          "solution": true,
          "task": false
        },
        "id": "g_ZYua42oqYt"
      },
      "outputs": [],
      "source": [
        "def test_model(model,test_loader):\n",
        "  # Turn autograd off\n",
        "  # YOUR CODE HERE\n",
        "  # Set the model to evaluation mode\n",
        "  net = model\n",
        "  net.eval()\n",
        "  with torch.no_grad():\n",
        "      # Set up lists to store true and predicted values\n",
        "      y_true = y_test.tolist\n",
        "      test_preds = []\n",
        "\n",
        "      # Calculate the predictions on the test set and add to list\n",
        "      for data in test_loader:\n",
        "          inputs, labels = data[0].to(device), data[1].to(device)\n",
        "          outputs = net.forward(inputs)\n",
        "          test_preds.extend(outputs.numpy().flatten().tolist())\n",
        "\n",
        "      # Convert the predictions to discrete and calculate the accuracy\n",
        "      test_preds = np.round(test_preds)\n",
        "      return test_preds\n",
        "      raise NotImplementedError()"
      ]
    },
    {
      "cell_type": "code",
      "execution_count": 37,
      "metadata": {
        "deletable": false,
        "editable": false,
        "nbgrader": {
          "cell_type": "code",
          "checksum": "756cb84ee8d2c1fef0678acf5c387d87",
          "grade": true,
          "grade_id": "cell-dc15fa0e05984ed8",
          "locked": true,
          "points": 4,
          "schema_version": 3,
          "solution": false,
          "task": false
        },
        "colab": {
          "base_uri": "https://localhost:8080/",
          "height": 245
        },
        "id": "Hhs3aBo5oqYt",
        "outputId": "d2ee98bb-41ea-460d-9f5c-5959b219af8f"
      },
      "outputs": [
        {
          "output_type": "error",
          "ename": "NameError",
          "evalue": "ignored",
          "traceback": [
            "\u001b[0;31m---------------------------------------------------------------------------\u001b[0m",
            "\u001b[0;31mNameError\u001b[0m                                 Traceback (most recent call last)",
            "\u001b[0;32m<ipython-input-37-53a8ebc1beb3>\u001b[0m in \u001b[0;36m<module>\u001b[0;34m()\u001b[0m\n\u001b[1;32m      1\u001b[0m \u001b[0;31m# Test cell for test_model()\u001b[0m\u001b[0;34m\u001b[0m\u001b[0;34m\u001b[0m\u001b[0;34m\u001b[0m\u001b[0m\n\u001b[0;32m----> 2\u001b[0;31m \u001b[0mtestpreds\u001b[0m \u001b[0;34m=\u001b[0m \u001b[0mtest_model\u001b[0m\u001b[0;34m(\u001b[0m\u001b[0mnet\u001b[0m\u001b[0;34m,\u001b[0m\u001b[0mtestloader\u001b[0m\u001b[0;34m)\u001b[0m\u001b[0;34m\u001b[0m\u001b[0;34m\u001b[0m\u001b[0m\n\u001b[0m\u001b[1;32m      3\u001b[0m \u001b[0;32massert\u001b[0m \u001b[0mtype\u001b[0m\u001b[0;34m(\u001b[0m\u001b[0mtestpreds\u001b[0m\u001b[0;34m)\u001b[0m \u001b[0;34m==\u001b[0m \u001b[0mlist\u001b[0m\u001b[0;34m\u001b[0m\u001b[0;34m\u001b[0m\u001b[0m\n\u001b[1;32m      4\u001b[0m \u001b[0;32massert\u001b[0m \u001b[0mlen\u001b[0m\u001b[0;34m(\u001b[0m\u001b[0mtestpreds\u001b[0m\u001b[0;34m)\u001b[0m \u001b[0;34m==\u001b[0m \u001b[0mlen\u001b[0m\u001b[0;34m(\u001b[0m\u001b[0my_test\u001b[0m\u001b[0;34m)\u001b[0m\u001b[0;34m\u001b[0m\u001b[0;34m\u001b[0m\u001b[0m\n\u001b[1;32m      5\u001b[0m \u001b[0mtest_mse\u001b[0m \u001b[0;34m=\u001b[0m \u001b[0;36m1\u001b[0m\u001b[0;34m/\u001b[0m\u001b[0mlen\u001b[0m\u001b[0;34m(\u001b[0m\u001b[0my_test\u001b[0m\u001b[0;34m)\u001b[0m\u001b[0;34m*\u001b[0m\u001b[0mnp\u001b[0m\u001b[0;34m.\u001b[0m\u001b[0msum\u001b[0m\u001b[0;34m(\u001b[0m\u001b[0;34m(\u001b[0m\u001b[0mnp\u001b[0m\u001b[0;34m.\u001b[0m\u001b[0marray\u001b[0m\u001b[0;34m(\u001b[0m\u001b[0mtestpreds\u001b[0m\u001b[0;34m)\u001b[0m\u001b[0;34m-\u001b[0m\u001b[0mnp\u001b[0m\u001b[0;34m.\u001b[0m\u001b[0marray\u001b[0m\u001b[0;34m(\u001b[0m\u001b[0my_test\u001b[0m\u001b[0;34m)\u001b[0m\u001b[0;34m)\u001b[0m\u001b[0;34m**\u001b[0m\u001b[0;36m2\u001b[0m\u001b[0;34m)\u001b[0m\u001b[0;34m\u001b[0m\u001b[0;34m\u001b[0m\u001b[0m\n",
            "\u001b[0;31mNameError\u001b[0m: name 'net' is not defined"
          ]
        }
      ],
      "source": [
        "# Test cell for test_model()\n",
        "testpreds = test_model(net,testloader)\n",
        "assert type(testpreds) == list\n",
        "assert len(testpreds) == len(y_test)\n",
        "test_mse = 1/len(y_test)*np.sum((np.array(testpreds)-np.array(y_test))**2)\n",
        "print('The test set MSE of your model is {:.4f}'.format(test_mse))\n"
      ]
    },
    {
      "cell_type": "markdown",
      "metadata": {
        "deletable": false,
        "editable": false,
        "nbgrader": {
          "cell_type": "markdown",
          "checksum": "1a092731cbda8a9d57c7a958a20391dd",
          "grade": false,
          "grade_id": "cell-1fc50b8e42566488",
          "locked": true,
          "schema_version": 3,
          "solution": false,
          "task": false
        },
        "id": "Cp6Tt-25oqYt"
      },
      "source": [
        "# THE END \n",
        "Congratulations on finishing the course!"
      ]
    }
  ],
  "metadata": {
    "kernelspec": {
      "display_name": "Python 3",
      "language": "python",
      "name": "python3"
    },
    "language_info": {
      "codemirror_mode": {
        "name": "ipython",
        "version": 3
      },
      "file_extension": ".py",
      "mimetype": "text/x-python",
      "name": "python",
      "nbconvert_exporter": "python",
      "pygments_lexer": "ipython3",
      "version": "3.9.7"
    },
    "colab": {
      "name": "final520.ipynb",
      "provenance": []
    }
  },
  "nbformat": 4,
  "nbformat_minor": 0
}