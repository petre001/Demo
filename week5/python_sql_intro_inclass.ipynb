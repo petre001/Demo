{
  "nbformat": 4,
  "nbformat_minor": 0,
  "metadata": {
    "kernelspec": {
      "display_name": "Python 3",
      "language": "python",
      "name": "python3"
    },
    "language_info": {
      "codemirror_mode": {
        "name": "ipython",
        "version": 3
      },
      "file_extension": ".py",
      "mimetype": "text/x-python",
      "name": "python",
      "nbconvert_exporter": "python",
      "pygments_lexer": "ipython3",
      "version": "3.7.10"
    },
    "colab": {
      "name": "python_sql_intro_inclass.ipynb",
      "provenance": [],
      "include_colab_link": true
    }
  },
  "cells": [
    {
      "cell_type": "markdown",
      "metadata": {
        "id": "view-in-github",
        "colab_type": "text"
      },
      "source": [
        "<a href=\"https://colab.research.google.com/github/petre001/Demo/blob/main/week5/python_sql_intro_inclass.ipynb\" target=\"_parent\"><img src=\"https://colab.research.google.com/assets/colab-badge.svg\" alt=\"Open In Colab\"/></a>"
      ]
    },
    {
      "cell_type": "markdown",
      "metadata": {
        "id": "P5jJP5dtMtXv"
      },
      "source": [
        "<a href='https://ai.meng.duke.edu'> = <img align=\"left\" style=\"padding-top:10px;\" src=https://storage.googleapis.com/aipi_datasets/Duke-AIPI-Logo.png>"
      ]
    },
    {
      "cell_type": "markdown",
      "metadata": {
        "id": "y_e7v8nfMtXx"
      },
      "source": [
        "# Working with SQLite Databases"
      ]
    },
    {
      "cell_type": "code",
      "metadata": {
        "id": "-v57lTK1MtXy"
      },
      "source": [
        "import sqlite3 as db\n",
        "import pandas as pd\n",
        "import numpy as np"
      ],
      "execution_count": 1,
      "outputs": []
    },
    {
      "cell_type": "markdown",
      "metadata": {
        "id": "JXqA9-hyMtXz"
      },
      "source": [
        "## Connecting to a database\n",
        "The sqlite engine maintains a database as a file; in the below example, the name of that file is `example.db`.\n",
        "If the named file does not yet exist, it will be created when this code is run. However, if the database has been created before, this same code will open it.  Once we open the database, we then create a 'cursor', which tracks the current state of the database.  We use the cursor to issue commands that modify or query the database."
      ]
    },
    {
      "cell_type": "code",
      "metadata": {
        "id": "knwvM8tpMtXz"
      },
      "source": [
        "# Connect to a database (or create one if it doesn't exist)\n",
        "conn = db.connect('example.db')\n",
        "\n",
        "# Create a 'cursor' for executing commands\n",
        "c = conn.cursor()"
      ],
      "execution_count": 2,
      "outputs": []
    },
    {
      "cell_type": "markdown",
      "metadata": {
        "id": "D5YSVKLuMtXz"
      },
      "source": [
        "## Adding data to tables\n",
        "The central object of a relational database is a _table_. A table has a similar form to a pandas DataFrame: observations as rows, features as columns. In the relational database world, we sometimes refer to rows as _items_ or _records_ and columns as _attributes_.\n",
        "\n",
        "Let's start by creating a table.  Suppose we would like to create a table within `example.db` to store information about Duke students, which includes three attributes: their Duke ID number, their name, and their expected graduation year.  We will create a table called `Students` to store this information."
      ]
    },
    {
      "cell_type": "code",
      "metadata": {
        "id": "I06zCkkhMtX0",
        "outputId": "7648fc94-eea0-4f8b-89fa-043bdf28f2c9",
        "colab": {
          "base_uri": "https://localhost:8080/"
        }
      },
      "source": [
        "# First check if the table already exists and if so we will delete it\n",
        "c.execute(\"DROP TABLE IF EXISTS Students\")\n",
        "\n",
        "# Create a table named \"Students\" with 3 columns: \"duke_id\" (string), \"name\" (string), \"grad_year\" (integer).\n",
        "c.execute(\"CREATE TABLE Students (duke_id INTEGER, name TEXT, grad_year INTEGER)\")"
      ],
      "execution_count": 3,
      "outputs": [
        {
          "output_type": "execute_result",
          "data": {
            "text/plain": [
              "<sqlite3.Cursor at 0x7f53d4ba0d50>"
            ]
          },
          "metadata": {},
          "execution_count": 3
        }
      ]
    },
    {
      "cell_type": "markdown",
      "metadata": {
        "id": "edwTR5urMtX0"
      },
      "source": [
        "Let's now populate our table.  To add items to the table we use the command, [`INSERT INTO`](https://www.sqlite.org/lang_insert.html).  The format of the command is `\"INSERT INTO <table_name> VALUES <values>\"`"
      ]
    },
    {
      "cell_type": "code",
      "metadata": {
        "id": "njtO9CWAMtX1"
      },
      "source": [
        "# Commands to add data to our table\n",
        "c.execute(\"INSERT INTO Students VALUES ('121', 'Reifschneider', 2025)\")\n",
        "c.execute(\"INSERT INTO Students VALUES ('225', 'Egger', 2023)\")\n",
        "c.execute(\"INSERT INTO Students VALUES ('767', 'Lin', 2022)\")\n",
        "c.execute(\"INSERT INTO Students VALUES ('988', 'Saha', 2022)\")\n",
        "\n",
        "# Commit the changes (make them permanent in the datbase)\n",
        "conn.commit()"
      ],
      "execution_count": 4,
      "outputs": []
    },
    {
      "cell_type": "markdown",
      "metadata": {
        "id": "DC7HOSkJMtX2"
      },
      "source": [
        "Rather than adding one item at a time, we can use `executemany()` to add multiple items."
      ]
    },
    {
      "cell_type": "code",
      "metadata": {
        "id": "fEf7cHYzMtX2"
      },
      "source": [
        "# List of items to add\n",
        "more_students = [('734', 'Fox', 2025),\n",
        "                 ('878', 'Lenz', 2023),\n",
        "                 ('267', 'Glass', 2023)]\n",
        "\n",
        "# '?' question marks are placeholders for the columns in Students table\n",
        "c.executemany('INSERT INTO Students VALUES (?, ?, ?)', more_students)\n",
        "conn.commit()"
      ],
      "execution_count": 5,
      "outputs": []
    },
    {
      "cell_type": "markdown",
      "metadata": {
        "id": "n83lI8R7MtX3"
      },
      "source": [
        "## Basic queries\n",
        "The most common operation we perform on databases is to retrieve information from them using a 'query'.  We use SQL syntax to create queries, which you can read about [here](https://data36.com/wp-content/uploads/2018/12/sql-cheat-sheet-for-data-scientists-by-tomi-mester.pdf).\n",
        "\n",
        "The simplest form of a SQL query is `\"SELECT * FROM <table_name>\"` which will return all data from the table as entries in a list. Note: unless we know that our table is of reasonable size, we usually do not want to do \"SELECT * FROM\" because it may return a lot of data!"
      ]
    },
    {
      "cell_type": "code",
      "metadata": {
        "id": "IoA1xSqyMtX3",
        "outputId": "5dc77990-6b48-451c-a0b9-8460f592572b",
        "colab": {
          "base_uri": "https://localhost:8080/"
        }
      },
      "source": [
        "# Query to get all data from the Students table\n",
        "c.execute(\"SELECT * FROM Students\")\n",
        "results = c.fetchall()\n",
        "print(\"Results of the query:\", len(results), \"\\nThe entries of Students:\\n\", results)"
      ],
      "execution_count": 6,
      "outputs": [
        {
          "output_type": "stream",
          "name": "stdout",
          "text": [
            "Results of the query: 7 \n",
            "The entries of Students:\n",
            " [(121, 'Reifschneider', 2025), (225, 'Egger', 2023), (767, 'Lin', 2022), (988, 'Saha', 2022), (734, 'Fox', 2025), (878, 'Lenz', 2023), (267, 'Glass', 2023)]\n"
          ]
        }
      ]
    },
    {
      "cell_type": "markdown",
      "metadata": {
        "id": "KyHqlV18MtX3"
      },
      "source": [
        "We can also create more complex queries using SQL which filter and/or sort the data."
      ]
    },
    {
      "cell_type": "code",
      "metadata": {
        "id": "QT6HQ3NoMtX4",
        "outputId": "0f6cba3d-ee64-4ffe-9e06-253e4f3ee702",
        "colab": {
          "base_uri": "https://localhost:8080/"
        }
      },
      "source": [
        "# Query to get all students graduating in 2023\n",
        "c.execute(\"SELECT * FROM Students WHERE grad_year=2023\")\n",
        "results = c.fetchall()\n",
        "print(\"Results of the query:\", len(results), \"\\nThe entries of Students:\\n\", results)"
      ],
      "execution_count": 7,
      "outputs": [
        {
          "output_type": "stream",
          "name": "stdout",
          "text": [
            "Results of the query: 3 \n",
            "The entries of Students:\n",
            " [(225, 'Egger', 2023), (878, 'Lenz', 2023), (267, 'Glass', 2023)]\n"
          ]
        }
      ]
    },
    {
      "cell_type": "code",
      "metadata": {
        "id": "EpjHBabOMtX4",
        "outputId": "429e364c-7aab-482f-ba8a-a58615d1d947",
        "colab": {
          "base_uri": "https://localhost:8080/"
        }
      },
      "source": [
        "# Query to return students graduating before a certain year, ordered by last name\n",
        "grad_year = 2025\n",
        "query = f'''\n",
        "        SELECT * \n",
        "        FROM Students\n",
        "        WHERE grad_year < {grad_year}\n",
        "        ORDER BY Name\n",
        "        '''\n",
        "\n",
        "c.execute(query)\n",
        "results = c.fetchall()\n",
        "print(\"Results of the query:\", len(results), \"\\nThe entries of Students:\\n\", results)"
      ],
      "execution_count": 8,
      "outputs": [
        {
          "output_type": "stream",
          "name": "stdout",
          "text": [
            "Results of the query: 5 \n",
            "The entries of Students:\n",
            " [(225, 'Egger', 2023), (267, 'Glass', 2023), (878, 'Lenz', 2023), (767, 'Lin', 2022), (988, 'Saha', 2022)]\n"
          ]
        }
      ]
    },
    {
      "cell_type": "markdown",
      "metadata": {
        "id": "4rnMigSiMtX4"
      },
      "source": [
        "## Join queries\n",
        "The main type of query that combines information from multiple tables is the _join query_. There are four types of join queries:\n",
        "\n",
        "- `INNER JOIN(A, B)`: Keep rows of `A` and `B` only where `A` and `B` match\n",
        "- `OUTER JOIN(A, B)`: Keep all rows of `A` and `B`, but merge matching rows and fill in missing values with some default (`NaN` in Pandas, `NULL` in SQL)\n",
        "- `LEFT JOIN(A, B)`: Keep all rows of `A` but only merge matches from `B`.\n",
        "- `RIGHT JOIN(A, B)`: Keep all rows of `B` but only merge matches from `A`.\n",
        "\n",
        "If you are a visual person, see [this page](https://www.codeproject.com/Articles/33052/Visual-Representation-of-SQL-Joins) for illustrations of the different join types.\n",
        "\n",
        "Let's create a new table `Classes` which stores information on which classes each student has taken and their grade (on a 4.0 scale).  We will then run some join queries on both tables in our database."
      ]
    },
    {
      "cell_type": "code",
      "metadata": {
        "id": "m6ICnxG6MtX4",
        "outputId": "85e875ec-93ce-4dbb-aa71-148e6e72a613",
        "colab": {
          "base_uri": "https://localhost:8080/"
        }
      },
      "source": [
        "# Create Classes table\n",
        "c.execute('DROP TABLE IF EXISTS Classes')\n",
        "c.execute('CREATE TABLE Classes (duke_id INTEGER, course TEXT, grade REAL)')\n",
        "\n",
        "students = [('121','AIPI 510',3.7),\n",
        "            ('121','AIPI 520',4.0),\n",
        "            ('121','AIPI 530',3.3),\n",
        "            ('225','AIPI 510',4.0),\n",
        "            ('225','AIPI 520',3.3),\n",
        "            ('767','MENG 570',3.0),\n",
        "            ('767','AIPI 510',4.0),\n",
        "            ('988','MENG 570',4.0),\n",
        "            ('988','AIPI 510',3.7),\n",
        "            ('734','AIPI 510',4.0),\n",
        "            ('734','AIPI 520',4.0),\n",
        "            ('878','AIPI 510',3.0),\n",
        "            ('878','AIPI 520',4.0)]\n",
        "\n",
        "c.executemany('INSERT INTO Classes VALUES (?,?,?)',students)\n",
        "conn.commit()\n",
        "\n",
        "# Displays the results of your code\n",
        "c.execute('SELECT * FROM Classes')\n",
        "results = c.fetchall()\n",
        "print(\"Your results:\", len(results), \"\\nThe entries of Classes:\", results)"
      ],
      "execution_count": 9,
      "outputs": [
        {
          "output_type": "stream",
          "name": "stdout",
          "text": [
            "Your results: 13 \n",
            "The entries of Classes: [(121, 'AIPI 510', 3.7), (121, 'AIPI 520', 4.0), (121, 'AIPI 530', 3.3), (225, 'AIPI 510', 4.0), (225, 'AIPI 520', 3.3), (767, 'MENG 570', 3.0), (767, 'AIPI 510', 4.0), (988, 'MENG 570', 4.0), (988, 'AIPI 510', 3.7), (734, 'AIPI 510', 4.0), (734, 'AIPI 520', 4.0), (878, 'AIPI 510', 3.0), (878, 'AIPI 520', 4.0)]\n"
          ]
        }
      ]
    },
    {
      "cell_type": "markdown",
      "metadata": {
        "id": "mu4zwDGkMtX4"
      },
      "source": [
        "Let's now perform a couple join queries using our two tables. We will need to join them on the column they both share, which is the join key.  In this case both tables share the same column `duke_id`"
      ]
    },
    {
      "cell_type": "code",
      "metadata": {
        "id": "FzlRSClXMtX5"
      },
      "source": [
        "# Get all students including their name (from Students), courses taken and grades (from Classes)\n",
        "\n",
        "query = '''\n",
        "        SELECT Students.name, Classes.course, Classes.grade\n",
        "        FROM Students INNER JOIN Classes ON Students.duke_id = Classes.duke_id\n",
        "        '''\n",
        "\n",
        "c.execute(query)\n",
        "results = c.fetchall()\n",
        "for result in results:\n",
        "    print(result)"
      ],
      "execution_count": null,
      "outputs": []
    },
    {
      "cell_type": "code",
      "metadata": {
        "id": "Yw7kuAQRMtX5"
      },
      "source": [
        "# Get names and grades of all students who have taken AIPI510\n",
        "course_name = 'AIPI 510'\n",
        "query = f'''\n",
        "        SELECT Students.name, Classes.grade\n",
        "        FROM Students INNER JOIN Classes ON Students.duke_id = Classes.duke_id\n",
        "        WHERE Classes.course = '{course_name}'\n",
        "        '''\n",
        "c.execute(query)\n",
        "results = c.fetchall()\n",
        "for result in results:\n",
        "    print(result)"
      ],
      "execution_count": null,
      "outputs": []
    },
    {
      "cell_type": "markdown",
      "metadata": {
        "id": "Bf3Nhs_aMtX5"
      },
      "source": [
        "Let's now look at what happens when we run a join query which has missing data in one of the tables."
      ]
    },
    {
      "cell_type": "code",
      "metadata": {
        "id": "LeIT1BfYMtX5"
      },
      "source": [
        "# Get all students including their name (from Students), courses taken and grades (from Classes)\n",
        "# We will use a left join this time\n",
        "\n",
        "query = '''\n",
        "        SELECT Students.name, Classes.course, Classes.grade\n",
        "        FROM Students LEFT JOIN Classes ON Students.duke_id = Classes.duke_id\n",
        "        '''\n",
        "\n",
        "c.execute(query)\n",
        "results = c.fetchall()\n",
        "for result in results:\n",
        "    print(result)"
      ],
      "execution_count": null,
      "outputs": []
    },
    {
      "cell_type": "markdown",
      "metadata": {
        "id": "RCnZDNV2MtX5"
      },
      "source": [
        "As we can see above, student Glass is not included in the Classes table and so when we perform the left join, we have no data available for them for `course` and `grade`.  We can run it again and exclude students who do not have any grades"
      ]
    },
    {
      "cell_type": "code",
      "metadata": {
        "id": "SUkHpyfBMtX5"
      },
      "source": [
        "# Get all students including their name (from Students), courses taken and grades (from Classes)\n",
        "# This time exclude students with no listed classes\n",
        "\n",
        "query = '''\n",
        "        SELECT Students.name, Classes.course, Classes.grade\n",
        "        FROM Students LEFT JOIN Classes ON Students.duke_id = Classes.duke_id\n",
        "        WHERE Classes.course is not null\n",
        "        '''\n",
        "\n",
        "c.execute(query)\n",
        "results = c.fetchall()\n",
        "for result in results:\n",
        "    print(result)"
      ],
      "execution_count": null,
      "outputs": []
    },
    {
      "cell_type": "markdown",
      "metadata": {
        "id": "5YagV7LzMtX6"
      },
      "source": [
        "## Aggregations\n",
        "Another common style of query is an aggregation, which is a summary of information across multiple records. Similar to pandas, we group the data using `GROUP BY` in the query and specify how we want to aggregate across records (e.g. take the mean or sum).  Useful SQL aggregators include `AVG`,`MIN`, `MAX`, `SUM`, and `COUNT`."
      ]
    },
    {
      "cell_type": "code",
      "metadata": {
        "id": "6o6D85WJMtX6"
      },
      "source": [
        "# Calculate the average GPA of each student across all classes they have taken\n",
        "\n",
        "query = '''\n",
        "        SELECT Students.name, AVG(Classes.grade) \n",
        "        FROM Students INNER JOIN Classes ON Students.duke_id = Classes.duke_id\n",
        "        GROUP BY Students.name\n",
        "        '''\n",
        "\n",
        "c.execute(query)\n",
        "results = c.fetchall()\n",
        "for result in results:\n",
        "    print(result)"
      ],
      "execution_count": null,
      "outputs": []
    },
    {
      "cell_type": "code",
      "metadata": {
        "id": "DrujEkogMtX6"
      },
      "source": [
        "# Get the count of how many classes each student has taken so far\n",
        "\n",
        "query = '''\n",
        "        SELECT Students.name, COUNT(Classes.course)\n",
        "        FROM Students INNER JOIN Classes ON Students.duke_id = Classes.duke_id\n",
        "        GROUP BY Students.name\n",
        "        '''\n",
        "\n",
        "c.execute(query)\n",
        "results = c.fetchall()\n",
        "for result in results:\n",
        "    print(result)"
      ],
      "execution_count": null,
      "outputs": []
    },
    {
      "cell_type": "markdown",
      "metadata": {
        "id": "5FtB0s-DMtX6"
      },
      "source": [
        "## SQL and Pandas\n",
        "We can read SQL queries directly into pandas to create DataFrames of the results."
      ]
    },
    {
      "cell_type": "code",
      "metadata": {
        "id": "mMXDeR_CMtX7"
      },
      "source": [
        "# Get a dataframe with all data from Students and Classes tables\n",
        "query = '''\n",
        "        SELECT Students.duke_id, Students.name, Students.grad_year, Classes.course, Classes.grade\n",
        "        FROM Students INNER JOIN Classes ON Students.duke_id = Classes.duke_id\n",
        "        '''\n",
        "\n",
        "df = pd.read_sql_query (query, conn)\n",
        "df"
      ],
      "execution_count": null,
      "outputs": []
    },
    {
      "cell_type": "code",
      "metadata": {
        "id": "VYWjo_J3MtX7"
      },
      "source": [
        "# Get a dataframe of students, their graduation year and their GPA\n",
        "# Rename the average grade column to 'gpa' using AS\n",
        "query = '''\n",
        "        SELECT Students.duke_id, Students.name, Students.grad_year, AVG(Classes.grade) AS gpa\n",
        "        FROM Students INNER JOIN Classes ON Students.duke_id = Classes.duke_id\n",
        "        GROUP BY Students.name\n",
        "        '''\n",
        "\n",
        "df = pd.read_sql_query (query, conn,index_col='duke_id')\n",
        "df"
      ],
      "execution_count": null,
      "outputs": []
    },
    {
      "cell_type": "markdown",
      "metadata": {
        "id": "4_UFYosvMtX7"
      },
      "source": [
        "We can also save data directly from a pandas dataframe to a table in a sqlite database."
      ]
    },
    {
      "cell_type": "code",
      "metadata": {
        "id": "MNcYn1qFMtX7"
      },
      "source": [
        "# Create dataframe of students' major\n",
        "majors_dict={'duke_id':['225','734','878','878','121','267'],\n",
        "             'major':['Biology','Finance','CS','AI','CS','Biology']}\n",
        "majors = pd.DataFrame(majors_dict)\n",
        "\n",
        "# Create table Majors from dataframe in example.db\n",
        "conn = db.connect('example.db')\n",
        "c = conn.cursor()\n",
        "c.execute(\"DROP TABLE IF EXISTS Majors\")\n",
        "majors.to_sql(name='Majors',con=conn,index=False)"
      ],
      "execution_count": null,
      "outputs": []
    },
    {
      "cell_type": "code",
      "metadata": {
        "id": "jF_fFsyHMtX7"
      },
      "source": [
        "# We can now query our new table\n",
        "df = pd.read_sql_query (\"SELECT * FROM Majors\", conn)\n",
        "df"
      ],
      "execution_count": null,
      "outputs": []
    },
    {
      "cell_type": "markdown",
      "metadata": {
        "id": "BMbSULDoMtX8"
      },
      "source": [
        "## Practice problems\n",
        "### Question 1\n",
        "Complete the below function to calculate the average GPA for students from each major.  The function should return a list of tuples containing the major and corresponding average gpa"
      ]
    },
    {
      "cell_type": "code",
      "metadata": {
        "id": "_uP-6Lc_MtX8"
      },
      "source": [
        "def avg_gpa_by_major(db_name):  \n",
        "    ### BEGIN SOLUTION ###\n",
        "    \n",
        "    conn = db.connect(db_name)\n",
        "\n",
        "    # Create a 'cursor' for executing commands\n",
        "    c = conn.cursor()\n",
        "    # Create dataframe of students' major\n",
        "    majors_dict={'duke_id':['225','734','878','878','121','267'],\n",
        "                'major':['Biology','Finance','CS','AI','CS','Biology']}\n",
        "    majors = pd.DataFrame(majors_dict)\n",
        "\n",
        "    # Create table Majors from dataframe in example.db\n",
        "    conn = db.connect('example.db')\n",
        "    c = conn.cursor()\n",
        "    c.execute(\"DROP TABLE IF EXISTS Majors\")\n",
        "    majors.to_sql(name='Majors',con=conn,index=False)\n",
        "\n",
        "    query = '''\n",
        "        SELECT Majors.major, Classes.grade AS gpa\n",
        "        FROM Majors INNER JOIN Classes ON Classes.duke_id = Majors.duke_id\n",
        "        GROUP BY Major    \n",
        "        '''\n",
        "    c.execute(query)\n",
        "    results = c.fetchall()\n",
        "    print(results)\n",
        "\n",
        "    ### END SOLUTION ###"
      ],
      "execution_count": 30,
      "outputs": []
    },
    {
      "cell_type": "code",
      "metadata": {
        "id": "rUKHGqaMTVi5",
        "outputId": "83c56ec2-a896-40b8-85c4-7daaf2434bdf",
        "colab": {
          "base_uri": "https://localhost:8080/"
        }
      },
      "source": [
        "gpas = avg_gpa_by_major('example.db')\n",
        "gpas"
      ],
      "execution_count": 31,
      "outputs": [
        {
          "output_type": "stream",
          "name": "stdout",
          "text": [
            "[('AI', 4.0), ('Biology', 4.0), ('CS', 4.0), ('Finance', 4.0)]\n"
          ]
        }
      ]
    },
    {
      "cell_type": "code",
      "metadata": {
        "id": "Ddh9x0jjMtX8"
      },
      "source": [
        "# Run function\n",
        "gpas = avg_gpa_by_major('example.db')\n",
        "gpas"
      ],
      "execution_count": null,
      "outputs": []
    },
    {
      "cell_type": "markdown",
      "metadata": {
        "id": "HdD1cIeSMtX8"
      },
      "source": [
        "### Question 2\n",
        "Complete the function below which returns a **pandas dataframe** containing the name, graduation year, major (or None if not declared), and GPA of all students who have taken classes."
      ]
    },
    {
      "cell_type": "code",
      "metadata": {
        "id": "A3_MhpoYMtX8"
      },
      "source": [
        "def all_students(db_name):\n",
        "    ### BEGIN SOLUTION ###\n",
        "    query = '''\n",
        "        SELECT Students.name, Students.grad_year, Major.major, Classes.grade AS gpa\n",
        "        FROM Students INNER JOIN Classes ON Students.duke_id = Classes.duke_id\n",
        "        '''\n",
        "    df = pd.read_sql_query (query, conn)\n",
        "    df \n",
        "    ### END SOLUTION ###"
      ],
      "execution_count": null,
      "outputs": []
    },
    {
      "cell_type": "code",
      "metadata": {
        "id": "WiG2LzizMtX8"
      },
      "source": [
        "# Run function\n",
        "students_table = all_students('example.db')\n",
        "students_table"
      ],
      "execution_count": null,
      "outputs": []
    },
    {
      "cell_type": "markdown",
      "metadata": {
        "id": "ecRpY6KyMtX8"
      },
      "source": [
        "### Question 3\n",
        "Complete the below function to create a pandas dataframe where the index values are the courses, the columns are the majors, and the cells show the number of students from each major in each course.  Your output should look like this:  \n",
        "<img align=\"left\" style=\"padding-top:10px;\" src=https://github.com/AIPI510/class_exercises/blob/master/week5/Q3.png?raw=1>"
      ]
    },
    {
      "cell_type": "code",
      "metadata": {
        "id": "j0Zh6EhxMtX9"
      },
      "source": [
        "def majors_per_course(db_name):  \n",
        "    ### BEGIN SOLUTION ###\n",
        "    \n",
        "    \n",
        "    ### END SOLUTION ###"
      ],
      "execution_count": null,
      "outputs": []
    },
    {
      "cell_type": "code",
      "metadata": {
        "id": "fR7W7n_FMtX9"
      },
      "source": [
        "majors_per_course('example.db')"
      ],
      "execution_count": null,
      "outputs": []
    }
  ]
}