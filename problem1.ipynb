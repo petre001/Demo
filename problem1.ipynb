{
  "nbformat": 4,
  "nbformat_minor": 0,
  "metadata": {
    "kernelspec": {
      "display_name": "Python 3",
      "language": "python",
      "name": "python3"
    },
    "language_info": {
      "codemirror_mode": {
        "name": "ipython",
        "version": 3
      },
      "file_extension": ".py",
      "mimetype": "text/x-python",
      "name": "python",
      "nbconvert_exporter": "python",
      "pygments_lexer": "ipython3",
      "version": "3.7.4"
    },
    "colab": {
      "name": "problem1.ipynb",
      "provenance": [],
      "include_colab_link": true
    }
  },
  "cells": [
    {
      "cell_type": "markdown",
      "metadata": {
        "id": "view-in-github",
        "colab_type": "text"
      },
      "source": [
        "<a href=\"https://colab.research.google.com/github/petre001/Demo/blob/main/problem1.ipynb\" target=\"_parent\"><img src=\"https://colab.research.google.com/assets/colab-badge.svg\" alt=\"Open In Colab\"/></a>"
      ]
    },
    {
      "cell_type": "markdown",
      "metadata": {
        "id": "vWeDtp2qYDTL"
      },
      "source": [
        "Before you turn this problem in, make sure everything runs as expected. First, **restart the kernel** (in the menubar, select Kernel$\\rightarrow$Restart) and then **run all cells** (in the menubar, select Cell$\\rightarrow$Run All).\n",
        "\n",
        "Make sure you fill in any place that says `YOUR CODE HERE` or \"YOUR ANSWER HERE\", as well as your name and collaborators below:"
      ]
    },
    {
      "cell_type": "code",
      "metadata": {
        "id": "xS8M899IYDTM"
      },
      "source": [
        "NAME = \"Jeffrey Petrella\"\n",
        "COLLABORATORS = \"None\""
      ],
      "execution_count": null,
      "outputs": []
    },
    {
      "cell_type": "markdown",
      "metadata": {
        "id": "Rwngbdb4YDTN"
      },
      "source": [
        "---"
      ]
    },
    {
      "cell_type": "markdown",
      "metadata": {
        "deletable": false,
        "editable": false,
        "nbgrader": {
          "cell_type": "markdown",
          "checksum": "9d56315831b9ed8a820176e8b566ba9e",
          "grade": false,
          "grade_id": "jupyter",
          "locked": true,
          "schema_version": 3,
          "solution": false
        },
        "id": "vpcxy_izYDTN"
      },
      "source": [
        "# Python for Data Science Bootcamp\n",
        "## Assignment 4\n",
        "\n",
        "NOTE: This assignment has 4 problems.  Please write your code in the designated portion of the autograded answer cell.\n",
        "\n",
        "For this problem set, we'll be using the Jupyter notebook and nbgrader:\n",
        "\n",
        "![](https://github.com/Python-for-Data-Science-Bootcamp/a4-petre001/blob/master/jupyter.png?raw=1)\n",
        "\n",
        "©2020 Luis Morales. All rights reserved. "
      ]
    },
    {
      "cell_type": "markdown",
      "metadata": {
        "deletable": false,
        "editable": false,
        "nbgrader": {
          "cell_type": "markdown",
          "checksum": "79f009ce2eaf2332fa4561c2d66529a8",
          "grade": false,
          "grade_id": "cell-7c27096ed0a46c7b",
          "locked": true,
          "schema_version": 3,
          "solution": false,
          "task": false
        },
        "id": "WYDyBDaGYDTO"
      },
      "source": [
        "## Problem 1 (1 point)\n",
        "\n",
        "Create a function that loads the file (WorldCups.csv), and then return the following DataFrame sorted by the numbers in the 'Score' column. For each world cup, the winner gets 4 points, the runners-up gets 2 points, the third place gets 1 point. \n",
        "![image.png](attachment:image.png)"
      ]
    },
    {
      "cell_type": "code",
      "metadata": {
        "deletable": false,
        "nbgrader": {
          "cell_type": "code",
          "checksum": "8b263813c4d53c76946bd196aa2c76a4",
          "grade": false,
          "grade_id": "myfunc",
          "locked": false,
          "schema_version": 3,
          "solution": true,
          "task": false
        },
        "id": "f7OIaMFOYDTO"
      },
      "source": [
        "import numpy as np\n",
        "import pandas as pd\n",
        "def myfunction():\n",
        "    # YOUR CODE HERE\n",
        "    worldcup = pd.read_csv('/Python-for-Data-Science-Bootcamp/a4-petre001/WorldCups.csv')\n",
        "    print(worldcup.head())\n",
        "    raise NotImplementedError()"
      ],
      "execution_count": 25,
      "outputs": []
    },
    {
      "cell_type": "code",
      "metadata": {
        "id": "vOLTBgPhbd-S",
        "outputId": "6ee2c98a-e0c2-4026-d623-0ebd9a65677d",
        "colab": {
          "base_uri": "https://localhost:8080/",
          "height": 37
        }
      },
      "source": [
        "pwd"
      ],
      "execution_count": 32,
      "outputs": [
        {
          "output_type": "execute_result",
          "data": {
            "application/vnd.google.colaboratory.intrinsic+json": {
              "type": "string"
            },
            "text/plain": [
              "'/content'"
            ]
          },
          "metadata": {},
          "execution_count": 32
        }
      ]
    },
    {
      "cell_type": "code",
      "metadata": {
        "deletable": false,
        "editable": false,
        "nbgrader": {
          "cell_type": "code",
          "checksum": "fe11012c96302b22a83049eda9994572",
          "grade": true,
          "grade_id": "myfunctest",
          "locked": true,
          "points": 1,
          "schema_version": 3,
          "solution": false,
          "task": false
        },
        "id": "CHGz0zKBYDTP"
      },
      "source": [
        "import numpy as np\n",
        "import pandas as pd\n",
        "res=myfunction()\n",
        "assert(res.shape==(19, 4))\n",
        "assert(res['Score'].values==np.array([28, 26, 21, 14,  8,  8,  7,  4,  4,  4,  4,  4,  2,  1,  1,  1,  1,\n",
        "        1,  1])).all()"
      ],
      "execution_count": null,
      "outputs": []
    },
    {
      "cell_type": "markdown",
      "metadata": {
        "deletable": false,
        "editable": false,
        "nbgrader": {
          "cell_type": "markdown",
          "checksum": "03a5daa12ee366b9dc1b6336f31f8afe",
          "grade": false,
          "grade_id": "cell-7b7b8b2b7e456082",
          "locked": true,
          "schema_version": 3,
          "solution": false,
          "task": false
        },
        "id": "_SYXEu-DYDTP"
      },
      "source": [
        "## Problem 2 (1 point)\n",
        "\n",
        "Write a function that loads the WorldCupMatches.csv file, calculates and returns a DataFrame representing the top 5 teams descendingly ordered by the number of goals in a single world cup\".\n",
        "![image.png](attachment:image.png)"
      ]
    },
    {
      "cell_type": "code",
      "metadata": {
        "deletable": false,
        "nbgrader": {
          "cell_type": "code",
          "checksum": "6457dccd428c5891ae0bfd65ce53716d",
          "grade": false,
          "grade_id": "myfunction",
          "locked": false,
          "schema_version": 3,
          "solution": true
        },
        "id": "pLGNOv1-YDTQ"
      },
      "source": [
        "import numpy as np\n",
        "import pandas as pd\n",
        "def myfunction():\n",
        "    # YOUR CODE HERE\n",
        "    raise NotImplementedError()"
      ],
      "execution_count": null,
      "outputs": []
    },
    {
      "cell_type": "code",
      "metadata": {
        "deletable": false,
        "editable": false,
        "nbgrader": {
          "cell_type": "code",
          "checksum": "bcd4187a2f585ffa63ba7772d41a1af6",
          "grade": true,
          "grade_id": "myfunctiontest",
          "locked": false,
          "points": 1,
          "schema_version": 3,
          "solution": false
        },
        "id": "JpzuQQDTYDTQ"
      },
      "source": [
        "res=myfunction()\n",
        "assert res.shape==(5,1)\n",
        "assert (res.values==np.array([[27.],[25.],[23.],[22.],[19.]])).all()\n",
        "assert int(res.loc[1954,'Hungary'])==27\n",
        "assert int(res.loc[1954,'Germany FR'])==25\n",
        "assert int(res.loc[1958,'France'])==23\n",
        "assert int(res.loc[1950,'Brazil'])==22\n",
        "assert int(res.loc[1970,'Brazil'])==19"
      ],
      "execution_count": null,
      "outputs": []
    },
    {
      "cell_type": "markdown",
      "metadata": {
        "deletable": false,
        "editable": false,
        "nbgrader": {
          "cell_type": "markdown",
          "checksum": "0420a398676e987cd7d3f2cfb4a68ffc",
          "grade": false,
          "grade_id": "cell-4c6accaf71092949",
          "locked": true,
          "schema_version": 3,
          "solution": false
        },
        "id": "a-QzWsKeYDTR"
      },
      "source": [
        "## Problem 3 (1 point)\n",
        "\n",
        "Create a function that loads the files WorldCupMatches.csv and WorldCupPlayers.csv to calculate all the matches that have goal in the first minute, and output the following dataframe.\n",
        "![image.png](attachment:image.png)"
      ]
    },
    {
      "cell_type": "code",
      "metadata": {
        "deletable": false,
        "nbgrader": {
          "cell_type": "code",
          "checksum": "0d1b84fcfcafed58aec51a3ace29b1b2",
          "grade": false,
          "grade_id": "myfunction2",
          "locked": false,
          "schema_version": 3,
          "solution": true
        },
        "id": "BeTa1namYDTR"
      },
      "source": [
        "import numpy as np\n",
        "import pandas as pd\n",
        "def myfunction():\n",
        "    # YOUR CODE HERE\n",
        "    raise NotImplementedError()"
      ],
      "execution_count": null,
      "outputs": []
    },
    {
      "cell_type": "code",
      "metadata": {
        "deletable": false,
        "editable": false,
        "nbgrader": {
          "cell_type": "code",
          "checksum": "1bcf6ad78ce10e09e4132554bb7a7db5",
          "grade": true,
          "grade_id": "myfunction2test",
          "locked": false,
          "points": 1,
          "schema_version": 3,
          "solution": false
        },
        "id": "sXNCZKNJYDTR"
      },
      "source": [
        "import numpy as np\n",
        "import pandas as pd\n",
        "res=myfunction()\n",
        "assert res.shape==(12,7)\n",
        "assert res['Home Team Goals'].sum()==37\n",
        "assert res['Away Team Goals'].sum()==20"
      ],
      "execution_count": null,
      "outputs": []
    },
    {
      "cell_type": "markdown",
      "metadata": {
        "deletable": false,
        "editable": false,
        "nbgrader": {
          "cell_type": "markdown",
          "checksum": "242d8870dbda96227198a9556de2f678",
          "grade": false,
          "grade_id": "cell-b7d6b8583ec5a971",
          "locked": true,
          "schema_version": 3,
          "solution": false,
          "task": false
        },
        "id": "DyLQEttzYDTS"
      },
      "source": [
        "## Problem 4 (1 point)\n",
        "\n",
        "Given a dataframe as follows:\n",
        "\n",
        "full_monte = pd.DataFrame(data=['Graham Chapman', 'John Cleese', 'Terry Gilliam'],columns=['Name'])\n",
        "![image.png](attachment:image.png)\n",
        "return a new dataframe that has an additional column of last name, calculated from the Name column as follows:"
      ]
    },
    {
      "cell_type": "code",
      "metadata": {
        "deletable": false,
        "nbgrader": {
          "cell_type": "code",
          "checksum": "554a893d1ff31412e1c8ee0f7a23687f",
          "grade": false,
          "grade_id": "prob4",
          "locked": false,
          "schema_version": 3,
          "solution": true,
          "task": false
        },
        "id": "uxn0kq93YDTS"
      },
      "source": [
        "import numpy as np\n",
        "import pandas as pd\n",
        "def myfunction():\n",
        "    full_monte = pd.DataFrame(data=['Graham Chapman', 'John Cleese', 'Terry Gilliam'],columns=['Name'])\n",
        "    # YOUR CODE HERE\n",
        "    raise NotImplementedError()"
      ],
      "execution_count": null,
      "outputs": []
    },
    {
      "cell_type": "code",
      "metadata": {
        "deletable": false,
        "editable": false,
        "nbgrader": {
          "cell_type": "code",
          "checksum": "c486b712a8d2fac14f1785b467a99cb4",
          "grade": true,
          "grade_id": "prob4test",
          "locked": true,
          "points": 1,
          "schema_version": 3,
          "solution": false,
          "task": false
        },
        "id": "hzaA0zGtYDTT"
      },
      "source": [
        "import numpy as np\n",
        "import pandas as pd\n",
        "full_monte2=myfunction()\n",
        "assert full_monte2['Last Name'].iloc[0]=='Chapman'\n",
        "assert full_monte2['Last Name'].iloc[1]=='Cleese'\n",
        "assert full_monte2['Last Name'].iloc[2]=='Gilliam'"
      ],
      "execution_count": null,
      "outputs": []
    }
  ]
}